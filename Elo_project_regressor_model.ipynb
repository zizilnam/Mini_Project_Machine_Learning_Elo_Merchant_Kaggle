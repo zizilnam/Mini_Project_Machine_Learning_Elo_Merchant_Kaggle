{
  "nbformat": 4,
  "nbformat_minor": 0,
  "metadata": {
    "colab": {
      "name": "Elo_project_regressor_model",
      "provenance": [],
      "collapsed_sections": [],
      "authorship_tag": "ABX9TyPrWjoyXlBPGtPpTEwWTc/A",
      "include_colab_link": true
    },
    "kernelspec": {
      "name": "python3",
      "display_name": "Python 3"
    },
    "language_info": {
      "name": "python"
    },
    "accelerator": "TPU"
  },
  "cells": [
    {
      "cell_type": "markdown",
      "metadata": {
        "id": "view-in-github",
        "colab_type": "text"
      },
      "source": [
        "<a href=\"https://colab.research.google.com/github/zizilnam/Mini_Project_Machine_Learning_Elo_Merchant_Kaggle/blob/main/Elo_project_regressor_model.ipynb\" target=\"_parent\"><img src=\"https://colab.research.google.com/assets/colab-badge.svg\" alt=\"Open In Colab\"/></a>"
      ]
    },
    {
      "cell_type": "markdown",
      "metadata": {
        "id": "p6fR04dDWYaQ"
      },
      "source": [
        "# Regression Models"
      ]
    },
    {
      "cell_type": "markdown",
      "metadata": {
        "id": "fenVoMJVVUpw"
      },
      "source": [
        "일단 회귀문제니까 회귀 모델 이것저것 다 넣어 봅니다."
      ]
    },
    {
      "cell_type": "code",
      "metadata": {
        "colab": {
          "base_uri": "https://localhost:8080/"
        },
        "id": "B0QIuHGarXND",
        "outputId": "77e608c4-7737-4bda-b2ae-ed2c4641db7a"
      },
      "source": [
        "from google.colab import drive\n",
        "drive.mount('/content/drive')"
      ],
      "execution_count": null,
      "outputs": [
        {
          "output_type": "stream",
          "name": "stdout",
          "text": [
            "Drive already mounted at /content/drive; to attempt to forcibly remount, call drive.mount(\"/content/drive\", force_remount=True).\n"
          ]
        }
      ]
    },
    {
      "cell_type": "code",
      "metadata": {
        "colab": {
          "base_uri": "https://localhost:8080/"
        },
        "id": "uFYisN1NrYLn",
        "outputId": "c7492654-510b-4c48-e378-4d3bde3890ac"
      },
      "source": [
        "cd/content/drive/MyDrive/KDT/모델링 프로젝트/data"
      ],
      "execution_count": null,
      "outputs": [
        {
          "output_type": "stream",
          "name": "stdout",
          "text": [
            "/content/drive/MyDrive/KDT/모델링 프로젝트/data\n"
          ]
        }
      ]
    },
    {
      "cell_type": "code",
      "metadata": {
        "colab": {
          "base_uri": "https://localhost:8080/"
        },
        "id": "98iUe2GrrjXX",
        "outputId": "1aff8625-e06f-4775-b801-fd0e89e9f874"
      },
      "source": [
        "import pandas as pd\n",
        "import numpy as np\n",
        "import seaborn as sns\n",
        "import matplotlib.pyplot as plt\n",
        "import datetime\n",
        "from statsmodels.stats.outliers_influence import variance_inflation_factor\n",
        "\n",
        "import gc\n",
        "import warnings\n",
        "\n",
        "from sklearn.preprocessing import MinMaxScaler\n",
        "from sklearn.model_selection import train_test_split\n",
        "\n",
        "from sklearn.model_selection import GridSearchCV\n",
        "from sklearn.model_selection import RandomizedSearchCV\n",
        "\n",
        "from sklearn.linear_model import LinearRegression\n",
        "from sklearn.linear_model import SGDRegressor\n",
        "from sklearn.svm import SVR\n",
        "from sklearn.ensemble import RandomForestRegressor\n",
        "\n",
        "import lightgbm as lgb\n",
        "\n",
        "#H20 Modules\n",
        "#import h2o\n",
        "#from h2o.grid.grid_search import H2OGridSearch\n",
        "#from h2o.estimators.random_forest import H2ORandomForestEstimator\n",
        "\n",
        "from sklearn.metrics import mean_squared_error\n",
        "from math import sqrt"
      ],
      "execution_count": null,
      "outputs": [
        {
          "output_type": "stream",
          "name": "stderr",
          "text": [
            "/usr/local/lib/python3.7/dist-packages/statsmodels/tools/_testing.py:19: FutureWarning: pandas.util.testing is deprecated. Use the functions in the public API at pandas.testing instead.\n",
            "  import pandas.util.testing as tm\n"
          ]
        }
      ]
    },
    {
      "cell_type": "markdown",
      "metadata": {
        "id": "-zEGCYVEWdwe"
      },
      "source": [
        "## Data Load"
      ]
    },
    {
      "cell_type": "code",
      "metadata": {
        "id": "lHcDBM7GryuU"
      },
      "source": [
        "train= pd.read_csv(\"train_features_generated.csv\")\n",
        "test = pd.read_csv(\"test_features_generated.csv\")"
      ],
      "execution_count": null,
      "outputs": []
    },
    {
      "cell_type": "markdown",
      "metadata": {
        "id": "VUs7muKtWhm0"
      },
      "source": [
        "## Linear Regression"
      ]
    },
    {
      "cell_type": "code",
      "metadata": {
        "id": "tVE0qVkYsFpc"
      },
      "source": [
        "data= train\n",
        "y_data =data['target']\n",
        "data.drop(columns=['target', 'card_id'], inplace=True, axis=1)\n",
        "X_train, X_test, y_train, y_test = train_test_split(data, y_data, test_size = 0.15)"
      ],
      "execution_count": null,
      "outputs": []
    },
    {
      "cell_type": "code",
      "metadata": {
        "colab": {
          "base_uri": "https://localhost:8080/"
        },
        "id": "YxbhaYvIsPq0",
        "outputId": "68a31b59-1579-4266-cf61-db45a9afaac0"
      },
      "source": [
        "model = LinearRegression()\n",
        "model.fit(X_train, y_train)"
      ],
      "execution_count": null,
      "outputs": [
        {
          "output_type": "execute_result",
          "data": {
            "text/plain": [
              "LinearRegression(copy_X=True, fit_intercept=True, n_jobs=None, normalize=False)"
            ]
          },
          "metadata": {},
          "execution_count": 7
        }
      ]
    },
    {
      "cell_type": "code",
      "metadata": {
        "colab": {
          "base_uri": "https://localhost:8080/"
        },
        "id": "Q6WyA2zGsR5V",
        "outputId": "31b581a3-eeef-4e9e-8160-83be9d357309"
      },
      "source": [
        "y_pred_train = model.predict(X_train)\n",
        "y_pred_test = model.predict(X_test)\n",
        "train_rmse = sqrt(mean_squared_error(y_train, y_pred_train))\n",
        "test_rmse = sqrt(mean_squared_error(y_test, y_pred_test))\n",
        "print(\"Train RMSE: {:2.5f}\".format(train_rmse))\n",
        "print(\"Test RMSE: {:2.5f}\".format(test_rmse))"
      ],
      "execution_count": null,
      "outputs": [
        {
          "output_type": "stream",
          "name": "stdout",
          "text": [
            "Train RMSE: 3.81243\n",
            "Test RMSE: 3.72359\n"
          ]
        }
      ]
    },
    {
      "cell_type": "markdown",
      "metadata": {
        "id": "tw3bNt2yWs0_"
      },
      "source": [
        "## SGDRegressor"
      ]
    },
    {
      "cell_type": "code",
      "metadata": {
        "colab": {
          "base_uri": "https://localhost:8080/"
        },
        "id": "5wNypyhcsUqf",
        "outputId": "c7952cfe-df47-482c-a03f-d81cade6f595"
      },
      "source": [
        "alpha = [0.000001, 0.00001, 0.0001, 0.001, 0.01, 0.1, 1, 10, 100, 1000, 10000, 100000]\n",
        "params = {'alpha': alpha}\n",
        "\n",
        "model=SGDRegressor()\n",
        "random_search = RandomizedSearchCV(model, params, scoring = 'neg_root_mean_squared_error', cv = 5)\n",
        "random_search.fit(X_train, y_train)\n",
        "random_search.best_params_"
      ],
      "execution_count": null,
      "outputs": [
        {
          "output_type": "execute_result",
          "data": {
            "text/plain": [
              "{'alpha': 100000}"
            ]
          },
          "metadata": {},
          "execution_count": 9
        }
      ]
    },
    {
      "cell_type": "code",
      "metadata": {
        "colab": {
          "base_uri": "https://localhost:8080/"
        },
        "id": "PHIE5Tdds9jg",
        "outputId": "ec0450a6-08af-4bae-b31c-92b690b00f7f"
      },
      "source": [
        "model = SGDRegressor(alpha=100000)\n",
        "model.fit(X_train, y_train)\n",
        "\n",
        "y_pred_train = model.predict(X_train)\n",
        "y_pred_test = model.predict(X_test)\n",
        "\n",
        "train_rmse = sqrt(mean_squared_error(y_train, y_pred_train))\n",
        "test_rmse = sqrt(mean_squared_error(y_test, y_pred_test))\n",
        "\n",
        "print(\"Train RMSE: {:2.5f}\".format(train_rmse))\n",
        "print(\"Test RMSE: {:2.5f}\".format(test_rmse))"
      ],
      "execution_count": null,
      "outputs": [
        {
          "output_type": "stream",
          "name": "stdout",
          "text": [
            "Train RMSE: 1270910591409345536.00000\n",
            "Test RMSE: 1271236366235292416.00000\n"
          ]
        }
      ]
    },
    {
      "cell_type": "markdown",
      "metadata": {
        "id": "cPvvWUJTWzyc"
      },
      "source": [
        "## Random Forest Regressor"
      ]
    },
    {
      "cell_type": "code",
      "metadata": {
        "id": "xstdK9UAtDMa"
      },
      "source": [
        "params = {\n",
        "            'n_estimators': [10, 50, 100, 150, 250, 500],\n",
        "            'max_depth': [2, 4, 6, 8, 10],\n",
        "            #'col_sample_rate': [0.5, 0.6, 0.7, 0.8, 0.9, 1],\n",
        "            'min_samples_split': [2, 4, 6, 8, 10],\n",
        "            \n",
        "}\n",
        "\n",
        "model=RandomForestRegressor(n_jobs=-1)\n",
        "random_search = GridSearchCV(model, params, scoring = 'neg_root_mean_squared_error', cv = 5)\n",
        "random_search.fit(X_train, y_train)\n",
        "random_search.best_params_"
      ],
      "execution_count": null,
      "outputs": []
    },
    {
      "cell_type": "code",
      "metadata": {
        "id": "ep2-N1uPtpLz"
      },
      "source": [
        "model = RandomForestRegressor(n_jobs=-1, n_estimators = 150, min_samples_split = 10, max_depth = 10)\n",
        "model.fit(X_train, y_train)\n",
        "\n",
        "y_pred_train = model.predict(X_train)\n",
        "y_pred_test = model.predict(X_test)\n",
        "\n",
        "train_rmse = sqrt(mean_squared_error(y_train, y_pred_train))\n",
        "test_rmse = sqrt(mean_squared_error(y_test, y_pred_test))\n",
        "\n",
        "print(\"Train RMSE: {:2.5f}\".format(train_rmse))\n",
        "print(\"Test RMSE: {:2.5f}\".format(test_rmse))"
      ],
      "execution_count": null,
      "outputs": []
    },
    {
      "cell_type": "code",
      "metadata": {
        "id": "nyABtbYTtysV"
      },
      "source": [
        "feat_importances = pd.Series(model.feature_importances_, index=train.drop(columns=[\"card_id\"]).columns)\n",
        "feat_importances.nlargest(25).plot(kind='barh')\n",
        "plt.show()"
      ],
      "execution_count": null,
      "outputs": []
    },
    {
      "cell_type": "code",
      "metadata": {
        "id": "-AcGFD2gwFRc"
      },
      "source": [
        "# Sleep for a few seconds.\n",
        "import time\n",
        "time.sleep(2)\n",
        "\n",
        "# Play an audio beep. Any audio URL will do.\n",
        "from google.colab import output\n",
        "output.eval_js('new Audio(\"https://upload.wikimedia.org/wikipedia/commons/0/05/Beep-09.ogg\").play()')"
      ],
      "execution_count": null,
      "outputs": []
    },
    {
      "cell_type": "code",
      "metadata": {
        "id": "Ft2f9vRywGt1"
      },
      "source": [
        ""
      ],
      "execution_count": null,
      "outputs": []
    }
  ]
}