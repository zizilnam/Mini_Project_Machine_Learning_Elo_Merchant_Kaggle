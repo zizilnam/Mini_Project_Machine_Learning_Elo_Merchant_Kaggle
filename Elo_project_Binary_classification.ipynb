{
  "nbformat": 4,
  "nbformat_minor": 0,
  "metadata": {
    "colab": {
      "name": "Elo_project_Binary classification",
      "provenance": [],
      "mount_file_id": "1dGIu0Z9V1zzSdEWgCkoKR2HVIpmmoadQ",
      "authorship_tag": "ABX9TyM5GS9jEQzR57+Fqa3LKDaF",
      "include_colab_link": true
    },
    "kernelspec": {
      "name": "python3",
      "display_name": "Python 3"
    },
    "language_info": {
      "name": "python"
    }
  },
  "cells": [
    {
      "cell_type": "markdown",
      "metadata": {
        "id": "view-in-github",
        "colab_type": "text"
      },
      "source": [
        "<a href=\"https://colab.research.google.com/github/zizilnam/Mini_Project_Machine_Learning_Elo_Merchant_Kaggle/blob/main/Elo_project_Binary_classification.ipynb\" target=\"_parent\"><img src=\"https://colab.research.google.com/assets/colab-badge.svg\" alt=\"Open In Colab\"/></a>"
      ]
    },
    {
      "cell_type": "code",
      "metadata": {
        "colab": {
          "base_uri": "https://localhost:8080/"
        },
        "id": "HyVf48ZZKJwT",
        "outputId": "234ff22e-09ce-48ae-e480-4e881e6b397b"
      },
      "source": [
        "from google.colab import drive\n",
        "drive.mount('/content/drive')"
      ],
      "execution_count": null,
      "outputs": [
        {
          "output_type": "stream",
          "name": "stdout",
          "text": [
            "Drive already mounted at /content/drive; to attempt to forcibly remount, call drive.mount(\"/content/drive\", force_remount=True).\n"
          ]
        }
      ]
    },
    {
      "cell_type": "code",
      "metadata": {
        "colab": {
          "base_uri": "https://localhost:8080/"
        },
        "id": "4pjlnj4vKykB",
        "outputId": "b10a68ce-a7e6-421c-ff04-21731dc55457"
      },
      "source": [
        "cd/content/drive/MyDrive/KDT/모델링 프로젝트/data/data_1"
      ],
      "execution_count": null,
      "outputs": [
        {
          "output_type": "stream",
          "name": "stdout",
          "text": [
            "/content/drive/MyDrive/KDT/모델링 프로젝트/data/data_1\n"
          ]
        }
      ]
    },
    {
      "cell_type": "code",
      "metadata": {
        "colab": {
          "base_uri": "https://localhost:8080/"
        },
        "id": "eb9nEViILNHx",
        "outputId": "f4a226cb-5f33-476f-a345-25edf9e6befd"
      },
      "source": [
        "pip install bayesian-optimization"
      ],
      "execution_count": null,
      "outputs": [
        {
          "output_type": "stream",
          "name": "stdout",
          "text": [
            "Requirement already satisfied: bayesian-optimization in /usr/local/lib/python3.7/dist-packages (1.2.0)\n",
            "Requirement already satisfied: numpy>=1.9.0 in /usr/local/lib/python3.7/dist-packages (from bayesian-optimization) (1.19.5)\n",
            "Requirement already satisfied: scikit-learn>=0.18.0 in /usr/local/lib/python3.7/dist-packages (from bayesian-optimization) (0.22.2.post1)\n",
            "Requirement already satisfied: scipy>=0.14.0 in /usr/local/lib/python3.7/dist-packages (from bayesian-optimization) (1.4.1)\n",
            "Requirement already satisfied: joblib>=0.11 in /usr/local/lib/python3.7/dist-packages (from scikit-learn>=0.18.0->bayesian-optimization) (1.0.1)\n"
          ]
        }
      ]
    },
    {
      "cell_type": "code",
      "metadata": {
        "id": "kHb0uyEbLSZ-"
      },
      "source": [
        "\n",
        "import numpy as np\n",
        "import pandas as pd\n",
        "import matplotlib.pyplot as plt\n",
        "import seaborn as sns\n",
        "import itertools\n",
        "\n",
        "from bayes_opt import BayesianOptimization\n",
        "from sklearn.model_selection import GridSearchCV\n",
        "from sklearn.model_selection import RandomizedSearchCV\n",
        "from sklearn.model_selection import train_test_split\n",
        "from sklearn.model_selection import StratifiedKFold, RepeatedKFold\n",
        "\n",
        "from sklearn.tree import DecisionTreeRegressor\n",
        "from sklearn.linear_model import LinearRegression\n",
        "from sklearn.linear_model import SGDRegressor\n",
        "from sklearn.ensemble import RandomForestRegressor\n",
        "\n",
        "import lightgbm as lgb\n",
        "import pickle\n",
        "\n",
        "from sklearn.metrics import f1_score\n",
        "from sklearn.metrics import roc_curve, auc, accuracy_score, roc_auc_score, log_loss, confusion_matrix, plot_confusion_matrix\n",
        "\n",
        "import time\n",
        "import gc\n",
        "import warnings\n",
        "warnings.filterwarnings('ignore')"
      ],
      "execution_count": null,
      "outputs": []
    },
    {
      "cell_type": "code",
      "metadata": {
        "id": "rHQ9VxfBLWEf"
      },
      "source": [
        "#https://www.kaggle.com/fabiendaniel/elo-world\n",
        "#Function to load data into pandas and reduce memory usage\n",
        "\n",
        "def reduce_mem_usage(df, verbose=True):\n",
        "    numerics = ['int16', 'int32', 'int64', 'float16', 'float32', 'float64']\n",
        "    start_mem = df.memory_usage().sum() / 1024**2    \n",
        "    for col in df.columns:\n",
        "        col_type = df[col].dtypes\n",
        "        if col_type in numerics:\n",
        "            c_min = df[col].min()\n",
        "            c_max = df[col].max()\n",
        "            if str(col_type)[:3] == 'int':\n",
        "                if c_min > np.iinfo(np.int8).min and c_max < np.iinfo(np.int8).max:\n",
        "                    df[col] = df[col].astype(np.int8)\n",
        "                elif c_min > np.iinfo(np.int16).min and c_max < np.iinfo(np.int16).max:\n",
        "                    df[col] = df[col].astype(np.int16)\n",
        "                elif c_min > np.iinfo(np.int32).min and c_max < np.iinfo(np.int32).max:\n",
        "                    df[col] = df[col].astype(np.int32)\n",
        "                elif c_min > np.iinfo(np.int64).min and c_max < np.iinfo(np.int64).max:\n",
        "                    df[col] = df[col].astype(np.int64)  \n",
        "            else:\n",
        "                if c_min > np.finfo(np.float16).min and c_max < np.finfo(np.float16).max:\n",
        "                    df[col] = df[col].astype(np.float16)\n",
        "                elif c_min > np.finfo(np.float32).min and c_max < np.finfo(np.float32).max:\n",
        "                    df[col] = df[col].astype(np.float32)\n",
        "                else:\n",
        "                    df[col] = df[col].astype(np.float64)    \n",
        "    end_mem = df.memory_usage().sum() / 1024**2\n",
        "    if verbose: print('Mem. usage decreased to {:5.2f} Mb ({:.1f}% reduction)'.format(end_mem, 100 * (start_mem - end_mem) / start_mem))\n",
        "    return df"
      ],
      "execution_count": null,
      "outputs": []
    },
    {
      "cell_type": "code",
      "metadata": {
        "colab": {
          "base_uri": "https://localhost:8080/"
        },
        "id": "D05R21q-LZu2",
        "outputId": "738ac2cd-3658-4e29-d4b7-192cc9929640"
      },
      "source": [
        "train = reduce_mem_usage(pd.read_csv(\"/content/drive/MyDrive/KDT/모델링 프로젝트/data/train_features_generated.csv\", index_col=0))\n",
        "test = reduce_mem_usage(pd.read_csv(\"/content/drive/MyDrive/KDT/모델링 프로젝트/data/test_features_generated.csv\", index_col=0))"
      ],
      "execution_count": null,
      "outputs": [
        {
          "output_type": "stream",
          "name": "stdout",
          "text": [
            "Mem. usage decreased to 100.71 Mb (74.7% reduction)\n",
            "Mem. usage decreased to 61.19 Mb (74.7% reduction)\n"
          ]
        }
      ]
    },
    {
      "cell_type": "code",
      "metadata": {
        "colab": {
          "base_uri": "https://localhost:8080/"
        },
        "id": "5oOuLjZ8L_NL",
        "outputId": "bf720a7a-fb35-4f1b-9f5b-e1c6487e4d6d"
      },
      "source": [
        "train.info()"
      ],
      "execution_count": null,
      "outputs": [
        {
          "output_type": "stream",
          "name": "stdout",
          "text": [
            "<class 'pandas.core.frame.DataFrame'>\n",
            "Int64Index: 201917 entries, 0 to 201916\n",
            "Columns: 257 entries, card_id to rare_datapoints\n",
            "dtypes: float16(194), float32(14), int16(15), int8(33), object(1)\n",
            "memory usage: 100.7+ MB\n"
          ]
        }
      ]
    },
    {
      "cell_type": "code",
      "metadata": {
        "colab": {
          "base_uri": "https://localhost:8080/"
        },
        "id": "FF4phfgsMOMF",
        "outputId": "7e01459f-7b0c-4ccf-beab-df0870dba6d2"
      },
      "source": [
        "test.info()"
      ],
      "execution_count": null,
      "outputs": [
        {
          "output_type": "stream",
          "name": "stdout",
          "text": [
            "<class 'pandas.core.frame.DataFrame'>\n",
            "Int64Index: 123623 entries, 0 to 123622\n",
            "Columns: 255 entries, card_id to merchant_active_months_lag12_12.0_std\n",
            "dtypes: float16(195), float32(14), int16(12), int8(33), object(1)\n",
            "memory usage: 61.2+ MB\n"
          ]
        }
      ]
    },
    {
      "cell_type": "markdown",
      "metadata": {
        "id": "6qlH5tf9PPs-"
      },
      "source": [
        "train 변수에 결측치가 있는지 확인한다."
      ]
    },
    {
      "cell_type": "code",
      "metadata": {
        "colab": {
          "base_uri": "https://localhost:8080/"
        },
        "id": "SeBebVnpMPI-",
        "outputId": "1f6c561f-4ead-40ca-f91f-26c812752030"
      },
      "source": [
        "train.isna().sum().any()"
      ],
      "execution_count": null,
      "outputs": [
        {
          "output_type": "execute_result",
          "data": {
            "text/plain": [
              "False"
            ]
          },
          "metadata": {},
          "execution_count": 64
        }
      ]
    },
    {
      "cell_type": "markdown",
      "metadata": {
        "id": "i68QztvCPXCF"
      },
      "source": [
        "test 변수에 결측치가 있는지 확인한다."
      ]
    },
    {
      "cell_type": "code",
      "metadata": {
        "colab": {
          "base_uri": "https://localhost:8080/"
        },
        "id": "JL307sb9PdTX",
        "outputId": "0871bc92-a0aa-4aec-844e-fb5cbf6ff887"
      },
      "source": [
        "test.isna().sum().any()"
      ],
      "execution_count": null,
      "outputs": [
        {
          "output_type": "execute_result",
          "data": {
            "text/plain": [
              "False"
            ]
          },
          "metadata": {},
          "execution_count": 65
        }
      ]
    },
    {
      "cell_type": "markdown",
      "metadata": {
        "id": "hMZE3XkkTs50"
      },
      "source": [
        "train에서 아웃라이어를 구분하기 위해 아웃라이어를 표시한 rare_datapoint column을 나눠준다.\n",
        "그리고 train에서 학습에 사용되지 않는 feature들을 제외해준다."
      ]
    },
    {
      "cell_type": "code",
      "metadata": {
        "id": "Ryo2kWmIPgPc"
      },
      "source": [
        "y_data = train['rare_datapoints']\n",
        "train.drop(columns = ['rare_datapoints', 'card_id', 'target'], axis=1, inplace=True)"
      ],
      "execution_count": null,
      "outputs": []
    },
    {
      "cell_type": "code",
      "metadata": {
        "id": "-v3CrHchenBI"
      },
      "source": [
        "test.drop(columns=['card_id'], axis = 1, inplace=True)"
      ],
      "execution_count": null,
      "outputs": []
    },
    {
      "cell_type": "code",
      "metadata": {
        "colab": {
          "base_uri": "https://localhost:8080/",
          "height": 255
        },
        "id": "LxLHAiLujOqK",
        "outputId": "c7bba9ac-39a9-4c8d-a3fa-5c695a706251"
      },
      "source": [
        "train.head()"
      ],
      "execution_count": null,
      "outputs": [
        {
          "output_type": "execute_result",
          "data": {
            "text/html": [
              "<div>\n",
              "<style scoped>\n",
              "    .dataframe tbody tr th:only-of-type {\n",
              "        vertical-align: middle;\n",
              "    }\n",
              "\n",
              "    .dataframe tbody tr th {\n",
              "        vertical-align: top;\n",
              "    }\n",
              "\n",
              "    .dataframe thead th {\n",
              "        text-align: right;\n",
              "    }\n",
              "</style>\n",
              "<table border=\"1\" class=\"dataframe\">\n",
              "  <thead>\n",
              "    <tr style=\"text-align: right;\">\n",
              "      <th></th>\n",
              "      <th>feature_1_1</th>\n",
              "      <th>feature_1_2</th>\n",
              "      <th>feature_1_3</th>\n",
              "      <th>feature_1_4</th>\n",
              "      <th>feature_1_5</th>\n",
              "      <th>feature_2_1</th>\n",
              "      <th>feature_2_2</th>\n",
              "      <th>feature_2_3</th>\n",
              "      <th>feature_3_0</th>\n",
              "      <th>feature_3_1</th>\n",
              "      <th>first_active_month_diff_from_today</th>\n",
              "      <th>year_of_joining</th>\n",
              "      <th>authorized_flag_sum</th>\n",
              "      <th>authorized_flag_mean</th>\n",
              "      <th>category_1_sum</th>\n",
              "      <th>category_1_mean</th>\n",
              "      <th>category_2_1.0_sum</th>\n",
              "      <th>category_2_1.0_mean</th>\n",
              "      <th>category_2_2.0_sum</th>\n",
              "      <th>category_2_2.0_mean</th>\n",
              "      <th>category_2_3.0_sum</th>\n",
              "      <th>category_2_3.0_mean</th>\n",
              "      <th>category_2_4.0_sum</th>\n",
              "      <th>category_2_4.0_mean</th>\n",
              "      <th>category_2_5.0_sum</th>\n",
              "      <th>category_2_5.0_mean</th>\n",
              "      <th>category_3_A_sum</th>\n",
              "      <th>category_3_A_mean</th>\n",
              "      <th>category_3_B_sum</th>\n",
              "      <th>category_3_B_mean</th>\n",
              "      <th>category_3_C_sum</th>\n",
              "      <th>category_3_C_mean</th>\n",
              "      <th>city_id_nunique</th>\n",
              "      <th>state_id_nunique</th>\n",
              "      <th>subsector_id_nunique</th>\n",
              "      <th>merchant_category_id_nunique</th>\n",
              "      <th>merchant_id_nunique</th>\n",
              "      <th>month_lag_sum</th>\n",
              "      <th>month_lag_mean</th>\n",
              "      <th>month_lag_min</th>\n",
              "      <th>...</th>\n",
              "      <th>merchant_active_months_lag6_5.0_std</th>\n",
              "      <th>merchant_active_months_lag6_6.0_sum</th>\n",
              "      <th>merchant_active_months_lag6_6.0_mean</th>\n",
              "      <th>merchant_active_months_lag6_6.0_std</th>\n",
              "      <th>merchant_active_months_lag12_1.0_sum</th>\n",
              "      <th>merchant_active_months_lag12_1.0_mean</th>\n",
              "      <th>merchant_active_months_lag12_1.0_std</th>\n",
              "      <th>merchant_active_months_lag12_2.0_sum</th>\n",
              "      <th>merchant_active_months_lag12_2.0_mean</th>\n",
              "      <th>merchant_active_months_lag12_2.0_std</th>\n",
              "      <th>merchant_active_months_lag12_3.0_sum</th>\n",
              "      <th>merchant_active_months_lag12_3.0_mean</th>\n",
              "      <th>merchant_active_months_lag12_3.0_std</th>\n",
              "      <th>merchant_active_months_lag12_4.0_sum</th>\n",
              "      <th>merchant_active_months_lag12_4.0_mean</th>\n",
              "      <th>merchant_active_months_lag12_4.0_std</th>\n",
              "      <th>merchant_active_months_lag12_5.0_sum</th>\n",
              "      <th>merchant_active_months_lag12_5.0_mean</th>\n",
              "      <th>merchant_active_months_lag12_5.0_std</th>\n",
              "      <th>merchant_active_months_lag12_6.0_sum</th>\n",
              "      <th>merchant_active_months_lag12_6.0_mean</th>\n",
              "      <th>merchant_active_months_lag12_6.0_std</th>\n",
              "      <th>merchant_active_months_lag12_7.0_sum</th>\n",
              "      <th>merchant_active_months_lag12_7.0_mean</th>\n",
              "      <th>merchant_active_months_lag12_7.0_std</th>\n",
              "      <th>merchant_active_months_lag12_8.0_sum</th>\n",
              "      <th>merchant_active_months_lag12_8.0_mean</th>\n",
              "      <th>merchant_active_months_lag12_8.0_std</th>\n",
              "      <th>merchant_active_months_lag12_9.0_sum</th>\n",
              "      <th>merchant_active_months_lag12_9.0_mean</th>\n",
              "      <th>merchant_active_months_lag12_9.0_std</th>\n",
              "      <th>merchant_active_months_lag12_10.0_sum</th>\n",
              "      <th>merchant_active_months_lag12_10.0_mean</th>\n",
              "      <th>merchant_active_months_lag12_10.0_std</th>\n",
              "      <th>merchant_active_months_lag12_11.0_sum</th>\n",
              "      <th>merchant_active_months_lag12_11.0_mean</th>\n",
              "      <th>merchant_active_months_lag12_11.0_std</th>\n",
              "      <th>merchant_active_months_lag12_12.0_sum</th>\n",
              "      <th>merchant_active_months_lag12_12.0_mean</th>\n",
              "      <th>merchant_active_months_lag12_12.0_std</th>\n",
              "    </tr>\n",
              "  </thead>\n",
              "  <tbody>\n",
              "    <tr>\n",
              "      <th>0</th>\n",
              "      <td>0</td>\n",
              "      <td>0</td>\n",
              "      <td>0</td>\n",
              "      <td>0</td>\n",
              "      <td>1</td>\n",
              "      <td>0</td>\n",
              "      <td>1</td>\n",
              "      <td>0</td>\n",
              "      <td>0</td>\n",
              "      <td>1</td>\n",
              "      <td>56</td>\n",
              "      <td>2017</td>\n",
              "      <td>270</td>\n",
              "      <td>0.954102</td>\n",
              "      <td>0</td>\n",
              "      <td>0.000000</td>\n",
              "      <td>280.0</td>\n",
              "      <td>0.989258</td>\n",
              "      <td>0.0</td>\n",
              "      <td>0.0</td>\n",
              "      <td>0.0</td>\n",
              "      <td>0.000000</td>\n",
              "      <td>0.0</td>\n",
              "      <td>0.000000</td>\n",
              "      <td>3.0</td>\n",
              "      <td>0.010597</td>\n",
              "      <td>279.0</td>\n",
              "      <td>0.98584</td>\n",
              "      <td>4.0</td>\n",
              "      <td>0.014137</td>\n",
              "      <td>0.0</td>\n",
              "      <td>0.000000</td>\n",
              "      <td>9</td>\n",
              "      <td>3</td>\n",
              "      <td>21</td>\n",
              "      <td>46</td>\n",
              "      <td>117</td>\n",
              "      <td>-983.0</td>\n",
              "      <td>-3.472656</td>\n",
              "      <td>-8</td>\n",
              "      <td>...</td>\n",
              "      <td>0.058929</td>\n",
              "      <td>281.0</td>\n",
              "      <td>0.975586</td>\n",
              "      <td>0.154297</td>\n",
              "      <td>0</td>\n",
              "      <td>0.0</td>\n",
              "      <td>0.0</td>\n",
              "      <td>0</td>\n",
              "      <td>0.0</td>\n",
              "      <td>0.0</td>\n",
              "      <td>0</td>\n",
              "      <td>0.0</td>\n",
              "      <td>0.0</td>\n",
              "      <td>0</td>\n",
              "      <td>0.0</td>\n",
              "      <td>0.0</td>\n",
              "      <td>1</td>\n",
              "      <td>0.003471</td>\n",
              "      <td>0.058929</td>\n",
              "      <td>0</td>\n",
              "      <td>0.0</td>\n",
              "      <td>0.0</td>\n",
              "      <td>5.0</td>\n",
              "      <td>0.017365</td>\n",
              "      <td>0.130859</td>\n",
              "      <td>0</td>\n",
              "      <td>0.0</td>\n",
              "      <td>0.0</td>\n",
              "      <td>0</td>\n",
              "      <td>0.000000</td>\n",
              "      <td>0.000000</td>\n",
              "      <td>2</td>\n",
              "      <td>0.006943</td>\n",
              "      <td>0.083191</td>\n",
              "      <td>0</td>\n",
              "      <td>0.0</td>\n",
              "      <td>0.0</td>\n",
              "      <td>274.0</td>\n",
              "      <td>0.951172</td>\n",
              "      <td>0.215454</td>\n",
              "    </tr>\n",
              "    <tr>\n",
              "      <th>1</th>\n",
              "      <td>0</td>\n",
              "      <td>0</td>\n",
              "      <td>0</td>\n",
              "      <td>1</td>\n",
              "      <td>0</td>\n",
              "      <td>1</td>\n",
              "      <td>0</td>\n",
              "      <td>0</td>\n",
              "      <td>1</td>\n",
              "      <td>0</td>\n",
              "      <td>56</td>\n",
              "      <td>2017</td>\n",
              "      <td>345</td>\n",
              "      <td>0.969238</td>\n",
              "      <td>31</td>\n",
              "      <td>0.087097</td>\n",
              "      <td>325.0</td>\n",
              "      <td>0.913086</td>\n",
              "      <td>0.0</td>\n",
              "      <td>0.0</td>\n",
              "      <td>0.0</td>\n",
              "      <td>0.000000</td>\n",
              "      <td>0.0</td>\n",
              "      <td>0.000000</td>\n",
              "      <td>0.0</td>\n",
              "      <td>0.000000</td>\n",
              "      <td>0.0</td>\n",
              "      <td>0.00000</td>\n",
              "      <td>282.0</td>\n",
              "      <td>0.791992</td>\n",
              "      <td>72.0</td>\n",
              "      <td>0.202271</td>\n",
              "      <td>9</td>\n",
              "      <td>3</td>\n",
              "      <td>24</td>\n",
              "      <td>58</td>\n",
              "      <td>148</td>\n",
              "      <td>-1752.0</td>\n",
              "      <td>-4.921875</td>\n",
              "      <td>-12</td>\n",
              "      <td>...</td>\n",
              "      <td>0.000000</td>\n",
              "      <td>371.0</td>\n",
              "      <td>1.000000</td>\n",
              "      <td>0.000000</td>\n",
              "      <td>0</td>\n",
              "      <td>0.0</td>\n",
              "      <td>0.0</td>\n",
              "      <td>0</td>\n",
              "      <td>0.0</td>\n",
              "      <td>0.0</td>\n",
              "      <td>0</td>\n",
              "      <td>0.0</td>\n",
              "      <td>0.0</td>\n",
              "      <td>0</td>\n",
              "      <td>0.0</td>\n",
              "      <td>0.0</td>\n",
              "      <td>0</td>\n",
              "      <td>0.000000</td>\n",
              "      <td>0.000000</td>\n",
              "      <td>0</td>\n",
              "      <td>0.0</td>\n",
              "      <td>0.0</td>\n",
              "      <td>9.0</td>\n",
              "      <td>0.024261</td>\n",
              "      <td>0.154053</td>\n",
              "      <td>0</td>\n",
              "      <td>0.0</td>\n",
              "      <td>0.0</td>\n",
              "      <td>0</td>\n",
              "      <td>0.000000</td>\n",
              "      <td>0.000000</td>\n",
              "      <td>3</td>\n",
              "      <td>0.008087</td>\n",
              "      <td>0.089661</td>\n",
              "      <td>0</td>\n",
              "      <td>0.0</td>\n",
              "      <td>0.0</td>\n",
              "      <td>359.0</td>\n",
              "      <td>0.967773</td>\n",
              "      <td>0.177124</td>\n",
              "    </tr>\n",
              "    <tr>\n",
              "      <th>2</th>\n",
              "      <td>0</td>\n",
              "      <td>1</td>\n",
              "      <td>0</td>\n",
              "      <td>0</td>\n",
              "      <td>0</td>\n",
              "      <td>0</td>\n",
              "      <td>1</td>\n",
              "      <td>0</td>\n",
              "      <td>1</td>\n",
              "      <td>0</td>\n",
              "      <td>68</td>\n",
              "      <td>2016</td>\n",
              "      <td>42</td>\n",
              "      <td>0.954590</td>\n",
              "      <td>0</td>\n",
              "      <td>0.000000</td>\n",
              "      <td>4.0</td>\n",
              "      <td>0.090881</td>\n",
              "      <td>0.0</td>\n",
              "      <td>0.0</td>\n",
              "      <td>0.0</td>\n",
              "      <td>0.000000</td>\n",
              "      <td>0.0</td>\n",
              "      <td>0.000000</td>\n",
              "      <td>40.0</td>\n",
              "      <td>0.909180</td>\n",
              "      <td>44.0</td>\n",
              "      <td>1.00000</td>\n",
              "      <td>0.0</td>\n",
              "      <td>0.000000</td>\n",
              "      <td>0.0</td>\n",
              "      <td>0.000000</td>\n",
              "      <td>5</td>\n",
              "      <td>2</td>\n",
              "      <td>8</td>\n",
              "      <td>9</td>\n",
              "      <td>14</td>\n",
              "      <td>-368.0</td>\n",
              "      <td>-8.367188</td>\n",
              "      <td>-13</td>\n",
              "      <td>...</td>\n",
              "      <td>0.000000</td>\n",
              "      <td>45.0</td>\n",
              "      <td>1.000000</td>\n",
              "      <td>0.000000</td>\n",
              "      <td>0</td>\n",
              "      <td>0.0</td>\n",
              "      <td>0.0</td>\n",
              "      <td>0</td>\n",
              "      <td>0.0</td>\n",
              "      <td>0.0</td>\n",
              "      <td>0</td>\n",
              "      <td>0.0</td>\n",
              "      <td>0.0</td>\n",
              "      <td>0</td>\n",
              "      <td>0.0</td>\n",
              "      <td>0.0</td>\n",
              "      <td>0</td>\n",
              "      <td>0.000000</td>\n",
              "      <td>0.000000</td>\n",
              "      <td>0</td>\n",
              "      <td>0.0</td>\n",
              "      <td>0.0</td>\n",
              "      <td>1.0</td>\n",
              "      <td>0.022217</td>\n",
              "      <td>0.149048</td>\n",
              "      <td>0</td>\n",
              "      <td>0.0</td>\n",
              "      <td>0.0</td>\n",
              "      <td>0</td>\n",
              "      <td>0.000000</td>\n",
              "      <td>0.000000</td>\n",
              "      <td>1</td>\n",
              "      <td>0.022217</td>\n",
              "      <td>0.149048</td>\n",
              "      <td>0</td>\n",
              "      <td>0.0</td>\n",
              "      <td>0.0</td>\n",
              "      <td>43.0</td>\n",
              "      <td>0.955566</td>\n",
              "      <td>0.208374</td>\n",
              "    </tr>\n",
              "    <tr>\n",
              "      <th>3</th>\n",
              "      <td>0</td>\n",
              "      <td>0</td>\n",
              "      <td>0</td>\n",
              "      <td>1</td>\n",
              "      <td>0</td>\n",
              "      <td>0</td>\n",
              "      <td>0</td>\n",
              "      <td>1</td>\n",
              "      <td>1</td>\n",
              "      <td>0</td>\n",
              "      <td>56</td>\n",
              "      <td>2017</td>\n",
              "      <td>84</td>\n",
              "      <td>1.000000</td>\n",
              "      <td>13</td>\n",
              "      <td>0.154785</td>\n",
              "      <td>12.0</td>\n",
              "      <td>0.142822</td>\n",
              "      <td>0.0</td>\n",
              "      <td>0.0</td>\n",
              "      <td>0.0</td>\n",
              "      <td>0.000000</td>\n",
              "      <td>59.0</td>\n",
              "      <td>0.702148</td>\n",
              "      <td>0.0</td>\n",
              "      <td>0.000000</td>\n",
              "      <td>0.0</td>\n",
              "      <td>0.00000</td>\n",
              "      <td>74.0</td>\n",
              "      <td>0.880859</td>\n",
              "      <td>7.0</td>\n",
              "      <td>0.083313</td>\n",
              "      <td>7</td>\n",
              "      <td>5</td>\n",
              "      <td>15</td>\n",
              "      <td>28</td>\n",
              "      <td>57</td>\n",
              "      <td>-206.0</td>\n",
              "      <td>-2.453125</td>\n",
              "      <td>-5</td>\n",
              "      <td>...</td>\n",
              "      <td>0.000000</td>\n",
              "      <td>96.0</td>\n",
              "      <td>1.000000</td>\n",
              "      <td>0.000000</td>\n",
              "      <td>0</td>\n",
              "      <td>0.0</td>\n",
              "      <td>0.0</td>\n",
              "      <td>0</td>\n",
              "      <td>0.0</td>\n",
              "      <td>0.0</td>\n",
              "      <td>0</td>\n",
              "      <td>0.0</td>\n",
              "      <td>0.0</td>\n",
              "      <td>0</td>\n",
              "      <td>0.0</td>\n",
              "      <td>0.0</td>\n",
              "      <td>0</td>\n",
              "      <td>0.000000</td>\n",
              "      <td>0.000000</td>\n",
              "      <td>0</td>\n",
              "      <td>0.0</td>\n",
              "      <td>0.0</td>\n",
              "      <td>9.0</td>\n",
              "      <td>0.093750</td>\n",
              "      <td>0.292969</td>\n",
              "      <td>0</td>\n",
              "      <td>0.0</td>\n",
              "      <td>0.0</td>\n",
              "      <td>3</td>\n",
              "      <td>0.031250</td>\n",
              "      <td>0.174927</td>\n",
              "      <td>2</td>\n",
              "      <td>0.020828</td>\n",
              "      <td>0.143555</td>\n",
              "      <td>0</td>\n",
              "      <td>0.0</td>\n",
              "      <td>0.0</td>\n",
              "      <td>82.0</td>\n",
              "      <td>0.854004</td>\n",
              "      <td>0.354736</td>\n",
              "    </tr>\n",
              "    <tr>\n",
              "      <th>4</th>\n",
              "      <td>1</td>\n",
              "      <td>0</td>\n",
              "      <td>0</td>\n",
              "      <td>0</td>\n",
              "      <td>0</td>\n",
              "      <td>0</td>\n",
              "      <td>0</td>\n",
              "      <td>1</td>\n",
              "      <td>1</td>\n",
              "      <td>0</td>\n",
              "      <td>56</td>\n",
              "      <td>2017</td>\n",
              "      <td>164</td>\n",
              "      <td>0.970215</td>\n",
              "      <td>17</td>\n",
              "      <td>0.100586</td>\n",
              "      <td>12.0</td>\n",
              "      <td>0.070984</td>\n",
              "      <td>0.0</td>\n",
              "      <td>0.0</td>\n",
              "      <td>7.0</td>\n",
              "      <td>0.041412</td>\n",
              "      <td>132.0</td>\n",
              "      <td>0.781250</td>\n",
              "      <td>1.0</td>\n",
              "      <td>0.005917</td>\n",
              "      <td>0.0</td>\n",
              "      <td>0.00000</td>\n",
              "      <td>160.0</td>\n",
              "      <td>0.946777</td>\n",
              "      <td>8.0</td>\n",
              "      <td>0.047333</td>\n",
              "      <td>7</td>\n",
              "      <td>7</td>\n",
              "      <td>19</td>\n",
              "      <td>37</td>\n",
              "      <td>102</td>\n",
              "      <td>-115.0</td>\n",
              "      <td>-0.680664</td>\n",
              "      <td>-3</td>\n",
              "      <td>...</td>\n",
              "      <td>0.074951</td>\n",
              "      <td>176.0</td>\n",
              "      <td>0.988770</td>\n",
              "      <td>0.105713</td>\n",
              "      <td>0</td>\n",
              "      <td>0.0</td>\n",
              "      <td>0.0</td>\n",
              "      <td>0</td>\n",
              "      <td>0.0</td>\n",
              "      <td>0.0</td>\n",
              "      <td>0</td>\n",
              "      <td>0.0</td>\n",
              "      <td>0.0</td>\n",
              "      <td>0</td>\n",
              "      <td>0.0</td>\n",
              "      <td>0.0</td>\n",
              "      <td>1</td>\n",
              "      <td>0.005619</td>\n",
              "      <td>0.074951</td>\n",
              "      <td>0</td>\n",
              "      <td>0.0</td>\n",
              "      <td>0.0</td>\n",
              "      <td>8.0</td>\n",
              "      <td>0.044952</td>\n",
              "      <td>0.207764</td>\n",
              "      <td>0</td>\n",
              "      <td>0.0</td>\n",
              "      <td>0.0</td>\n",
              "      <td>3</td>\n",
              "      <td>0.016861</td>\n",
              "      <td>0.129028</td>\n",
              "      <td>0</td>\n",
              "      <td>0.000000</td>\n",
              "      <td>0.000000</td>\n",
              "      <td>0</td>\n",
              "      <td>0.0</td>\n",
              "      <td>0.0</td>\n",
              "      <td>165.0</td>\n",
              "      <td>0.926758</td>\n",
              "      <td>0.260986</td>\n",
              "    </tr>\n",
              "  </tbody>\n",
              "</table>\n",
              "<p>5 rows × 254 columns</p>\n",
              "</div>"
            ],
            "text/plain": [
              "   feature_1_1  ...  merchant_active_months_lag12_12.0_std\n",
              "0            0  ...                               0.215454\n",
              "1            0  ...                               0.177124\n",
              "2            0  ...                               0.208374\n",
              "3            0  ...                               0.354736\n",
              "4            1  ...                               0.260986\n",
              "\n",
              "[5 rows x 254 columns]"
            ]
          },
          "metadata": {},
          "execution_count": 100
        }
      ]
    },
    {
      "cell_type": "markdown",
      "metadata": {
        "id": "RimkOFTjXOLC"
      },
      "source": [
        "데이터를 스플릿하고 학습시킨 뒤 평가까지하는 함수를 만든다."
      ]
    },
    {
      "cell_type": "code",
      "metadata": {
        "id": "cr0ICPLUUOaU"
      },
      "source": [
        "def LGBM_CV(\n",
        "            num_leaves,\n",
        "            max_depth,\n",
        "            n_estimators,\n",
        "            min_split_gain,\n",
        "            subsample,\n",
        "            min_child_samples,\n",
        "            colsample_bytree,\n",
        "            reg_alpha,\n",
        "            reg_lambda\n",
        "):\n",
        "\n",
        "  folds = StratifiedKFold(n_splits = 3, shuffle=True, random_state=5)\n",
        "  oof = np.zeros(train.shape[0])\n",
        "\n",
        "  for fold_, (train_idx, val_idx) in enumerate(folds.split(train, y_data)):\n",
        "    print(\"Fold:\", fold_)\n",
        "    trn_data = lgb.Dataset(train.iloc[train_idx], label = y_data.iloc[train_idx])\n",
        "    val_data = lgb.Dataset(train.iloc[val_idx], label = y_data.iloc[val_idx])\n",
        "\n",
        "    params = {  \n",
        "                'task': 'train',\n",
        "                'objective' : 'binary',\n",
        "                'boosting_type' : 'goss',\n",
        "                'num_leaves' : int(num_leaves),\n",
        "                'max_depth' : int(max_depth),\n",
        "                'learning_rate' : 0.01,\n",
        "                'n_estimators' : int(n_estimators),\n",
        "                'is_unbalance' : True,\n",
        "                'min_split_gain' : min_split_gain,\n",
        "                'subsample' : subsample,\n",
        "                'min_child_samples' : int(min_child_samples),\n",
        "                'colsample_bytree' : colsample_bytree,\n",
        "                'n_jobs' : -1,\n",
        "                'reg_alpha' : reg_alpha,\n",
        "                'reg_lambda' : reg_lambda,\n",
        "                'metric': 'binary_logloss'\n",
        "    }\n",
        "\n",
        "    clf = lgb.train(params,\n",
        "                    trn_data,\n",
        "                    valid_sets = [trn_data, val_data],\n",
        "                    verbose_eval = 1000,\n",
        "                    early_stopping_rounds = 200\n",
        "                    )\n",
        "    \n",
        "    oof[val_idx] = clf.predict(train.iloc[val_idx])\n",
        "  \n",
        "  #oof = np.where(oof > 0.5, 1, 0) # Change predictions to 0-1 output\n",
        "  #Change the error metric if needed\n",
        "  return -log_loss(y_data, oof)"
      ],
      "execution_count": null,
      "outputs": []
    },
    {
      "cell_type": "markdown",
      "metadata": {
        "id": "UoKl5rIzbjXi"
      },
      "source": [
        "Bayesian Optimization의 하이퍼파라미터 범위를 지정해준다."
      ]
    },
    {
      "cell_type": "code",
      "metadata": {
        "id": "fiER-PS9W9VN"
      },
      "source": [
        "LGB_BO = BayesianOptimization(LGBM_CV, {\n",
        "    'min_split_gain': (0, 1),\n",
        "    'subsample': (0, 1) ,\n",
        "    'min_child_samples': (10, 200),\n",
        "    'colsample_bytree': (0, 1),\n",
        "    'reg_alpha': (0, 1),\n",
        "    'reg_lambda': (0, 1),\n",
        "    'max_depth': (4, 10),\n",
        "    'num_leaves': (5, 200),\n",
        "    'n_estimators' : (10, 750)\n",
        "    })"
      ],
      "execution_count": null,
      "outputs": []
    },
    {
      "cell_type": "markdown",
      "metadata": {
        "id": "4WvVyhtBkUSO"
      },
      "source": [
        "위의 함수를 이용해 범위 내에 있는 하이퍼 파라미터 중 최적의 값을 선정한다.\n",
        "코드 실행 시간이 길면 얼마나 오래 걸리는 지 궁금하기 때문에 걸린 시간을 보여주는 코드도 쓴다."
      ]
    },
    {
      "cell_type": "code",
      "metadata": {
        "colab": {
          "base_uri": "https://localhost:8080/"
        },
        "id": "x4vBKHsJYG1B",
        "outputId": "5884fa5a-ce6a-473a-840a-a356ae830869"
      },
      "source": [
        "start_time = time.time()\n",
        "with warnings.catch_warnings():\n",
        "    warnings.filterwarnings('ignore')\n",
        "    LGB_BO.maximize(init_points=2, n_iter=30, acq='ei', xi=0.0)\n",
        "    \n",
        "print(\"Time taken\", time.time()-start_time)\n",
        "print('-'*130)\n",
        "print('Final Results')\n",
        "print('Maximum  value: %f' % LGB_BO.max['target'])\n",
        "print('Best  parameters: ', LGB_BO.max['params'])"
      ],
      "execution_count": null,
      "outputs": [
        {
          "output_type": "stream",
          "name": "stdout",
          "text": [
            "|   iter    |  target   | colsam... | max_depth | min_ch... | min_sp... | n_esti... | num_le... | reg_alpha | reg_la... | subsample |\n",
            "-------------------------------------------------------------------------------------------------------------------------------------\n",
            "Fold: 0\n",
            "Training until validation scores don't improve for 200 rounds.\n",
            "Early stopping, best iteration is:\n",
            "[1]\ttraining's binary_logloss: 0.0585984\tvalid_1's binary_logloss: 0.0589774\n",
            "Fold: 1\n",
            "Training until validation scores don't improve for 200 rounds.\n",
            "Early stopping, best iteration is:\n",
            "[1]\ttraining's binary_logloss: 0.0586433\tvalid_1's binary_logloss: 0.0589461\n",
            "Fold: 2\n",
            "Training until validation scores don't improve for 200 rounds.\n",
            "Early stopping, best iteration is:\n",
            "[1]\ttraining's binary_logloss: 0.0587114\tvalid_1's binary_logloss: 0.0589054\n",
            "| \u001b[0m 1       \u001b[0m | \u001b[0m-0.05894 \u001b[0m | \u001b[0m 0.11    \u001b[0m | \u001b[0m 5.842   \u001b[0m | \u001b[0m 22.89   \u001b[0m | \u001b[0m 0.568   \u001b[0m | \u001b[0m 744.7   \u001b[0m | \u001b[0m 33.42   \u001b[0m | \u001b[0m 0.6092  \u001b[0m | \u001b[0m 0.4921  \u001b[0m | \u001b[0m 0.6763  \u001b[0m |\n",
            "Fold: 0\n",
            "Training until validation scores don't improve for 200 rounds.\n",
            "Did not meet early stopping. Best iteration is:\n",
            "[2]\ttraining's binary_logloss: 0.05771\tvalid_1's binary_logloss: 0.0590878\n",
            "Fold: 1\n",
            "Training until validation scores don't improve for 200 rounds.\n",
            "Did not meet early stopping. Best iteration is:\n",
            "[2]\ttraining's binary_logloss: 0.0578036\tvalid_1's binary_logloss: 0.0591958\n",
            "Fold: 2\n",
            "Training until validation scores don't improve for 200 rounds.\n",
            "Did not meet early stopping. Best iteration is:\n",
            "[2]\ttraining's binary_logloss: 0.0578308\tvalid_1's binary_logloss: 0.0589975\n",
            "| \u001b[0m 2       \u001b[0m | \u001b[0m-0.05909 \u001b[0m | \u001b[0m 0.1094  \u001b[0m | \u001b[0m 7.514   \u001b[0m | \u001b[0m 174.0   \u001b[0m | \u001b[0m 0.6754  \u001b[0m | \u001b[0m 199.1   \u001b[0m | \u001b[0m 174.7   \u001b[0m | \u001b[0m 0.7184  \u001b[0m | \u001b[0m 0.328   \u001b[0m | \u001b[0m 0.8475  \u001b[0m |\n",
            "Fold: 0\n",
            "Training until validation scores don't improve for 200 rounds.\n",
            "Did not meet early stopping. Best iteration is:\n",
            "[2]\ttraining's binary_logloss: 0.0566386\tvalid_1's binary_logloss: 0.0568946\n",
            "Fold: 1\n",
            "Training until validation scores don't improve for 200 rounds.\n",
            "Did not meet early stopping. Best iteration is:\n",
            "[2]\ttraining's binary_logloss: 0.0566199\tvalid_1's binary_logloss: 0.0567412\n",
            "Fold: 2\n",
            "Training until validation scores don't improve for 200 rounds.\n",
            "Did not meet early stopping. Best iteration is:\n",
            "[2]\ttraining's binary_logloss: 0.0566086\tvalid_1's binary_logloss: 0.0567983\n",
            "| \u001b[95m 3       \u001b[0m | \u001b[95m-0.05681 \u001b[0m | \u001b[95m 0.8215  \u001b[0m | \u001b[95m 6.185   \u001b[0m | \u001b[95m 14.85   \u001b[0m | \u001b[95m 0.3927  \u001b[0m | \u001b[95m 25.04   \u001b[0m | \u001b[95m 9.001   \u001b[0m | \u001b[95m 0.3443  \u001b[0m | \u001b[95m 0.9166  \u001b[0m | \u001b[95m 0.2484  \u001b[0m |\n",
            "Fold: 0\n",
            "Training until validation scores don't improve for 200 rounds.\n",
            "Did not meet early stopping. Best iteration is:\n",
            "[2]\ttraining's binary_logloss: 0.0567893\tvalid_1's binary_logloss: 0.0570493\n",
            "Fold: 1\n",
            "Training until validation scores don't improve for 200 rounds.\n",
            "Did not meet early stopping. Best iteration is:\n",
            "[2]\ttraining's binary_logloss: 0.0567743\tvalid_1's binary_logloss: 0.056924\n",
            "Fold: 2\n",
            "Training until validation scores don't improve for 200 rounds.\n",
            "Did not meet early stopping. Best iteration is:\n",
            "[2]\ttraining's binary_logloss: 0.0568441\tvalid_1's binary_logloss: 0.0570449\n",
            "| \u001b[0m 4       \u001b[0m | \u001b[0m-0.05701 \u001b[0m | \u001b[0m 0.3094  \u001b[0m | \u001b[0m 7.606   \u001b[0m | \u001b[0m 198.2   \u001b[0m | \u001b[0m 0.2393  \u001b[0m | \u001b[0m 27.0    \u001b[0m | \u001b[0m 10.8    \u001b[0m | \u001b[0m 0.8646  \u001b[0m | \u001b[0m 0.7961  \u001b[0m | \u001b[0m 0.6953  \u001b[0m |\n",
            "Fold: 0\n",
            "Training until validation scores don't improve for 200 rounds.\n",
            "Did not meet early stopping. Best iteration is:\n",
            "[2]\ttraining's binary_logloss: 0.0569573\tvalid_1's binary_logloss: 0.0572086\n",
            "Fold: 1\n",
            "Training until validation scores don't improve for 200 rounds.\n",
            "Did not meet early stopping. Best iteration is:\n",
            "[2]\ttraining's binary_logloss: 0.0568977\tvalid_1's binary_logloss: 0.0571036\n",
            "Fold: 2\n",
            "Training until validation scores don't improve for 200 rounds.\n",
            "Did not meet early stopping. Best iteration is:\n",
            "[2]\ttraining's binary_logloss: 0.056911\tvalid_1's binary_logloss: 0.0571611\n",
            "| \u001b[0m 5       \u001b[0m | \u001b[0m-0.05716 \u001b[0m | \u001b[0m 0.1819  \u001b[0m | \u001b[0m 4.473   \u001b[0m | \u001b[0m 12.42   \u001b[0m | \u001b[0m 0.2705  \u001b[0m | \u001b[0m 19.29   \u001b[0m | \u001b[0m 13.03   \u001b[0m | \u001b[0m 0.4182  \u001b[0m | \u001b[0m 0.9623  \u001b[0m | \u001b[0m 0.253   \u001b[0m |\n",
            "Fold: 0\n",
            "Training until validation scores don't improve for 200 rounds.\n",
            "Did not meet early stopping. Best iteration is:\n",
            "[2]\ttraining's binary_logloss: 0.057078\tvalid_1's binary_logloss: 0.0572816\n",
            "Fold: 1\n",
            "Training until validation scores don't improve for 200 rounds.\n",
            "Did not meet early stopping. Best iteration is:\n",
            "[2]\ttraining's binary_logloss: 0.0570653\tvalid_1's binary_logloss: 0.0571912\n",
            "Fold: 2\n",
            "Training until validation scores don't improve for 200 rounds.\n",
            "Did not meet early stopping. Best iteration is:\n",
            "[2]\ttraining's binary_logloss: 0.0571156\tvalid_1's binary_logloss: 0.0573326\n",
            "| \u001b[0m 6       \u001b[0m | \u001b[0m-0.05727 \u001b[0m | \u001b[0m 0.346   \u001b[0m | \u001b[0m 4.763   \u001b[0m | \u001b[0m 13.51   \u001b[0m | \u001b[0m 0.515   \u001b[0m | \u001b[0m 12.9    \u001b[0m | \u001b[0m 7.582   \u001b[0m | \u001b[0m 0.7118  \u001b[0m | \u001b[0m 0.1995  \u001b[0m | \u001b[0m 0.626   \u001b[0m |\n",
            "Fold: 0\n",
            "Training until validation scores don't improve for 200 rounds.\n",
            "Did not meet early stopping. Best iteration is:\n",
            "[2]\ttraining's binary_logloss: 0.0571522\tvalid_1's binary_logloss: 0.0572762\n",
            "Fold: 1\n",
            "Training until validation scores don't improve for 200 rounds.\n",
            "Did not meet early stopping. Best iteration is:\n",
            "[2]\ttraining's binary_logloss: 0.0571342\tvalid_1's binary_logloss: 0.0571282\n",
            "Fold: 2\n",
            "Training until validation scores don't improve for 200 rounds.\n",
            "Did not meet early stopping. Best iteration is:\n",
            "[2]\ttraining's binary_logloss: 0.0570789\tvalid_1's binary_logloss: 0.0572204\n",
            "| \u001b[0m 7       \u001b[0m | \u001b[0m-0.05721 \u001b[0m | \u001b[0m 0.8946  \u001b[0m | \u001b[0m 6.577   \u001b[0m | \u001b[0m 181.7   \u001b[0m | \u001b[0m 0.3272  \u001b[0m | \u001b[0m 34.71   \u001b[0m | \u001b[0m 5.289   \u001b[0m | \u001b[0m 0.4643  \u001b[0m | \u001b[0m 0.3277  \u001b[0m | \u001b[0m 0.6419  \u001b[0m |\n",
            "Fold: 0\n",
            "Training until validation scores don't improve for 200 rounds.\n",
            "Did not meet early stopping. Best iteration is:\n",
            "[2]\ttraining's binary_logloss: 0.0567941\tvalid_1's binary_logloss: 0.0569876\n",
            "Fold: 1\n",
            "Training until validation scores don't improve for 200 rounds.\n",
            "Did not meet early stopping. Best iteration is:\n",
            "[2]\ttraining's binary_logloss: 0.0568144\tvalid_1's binary_logloss: 0.0568691\n",
            "Fold: 2\n",
            "Training until validation scores don't improve for 200 rounds.\n",
            "Did not meet early stopping. Best iteration is:\n",
            "[2]\ttraining's binary_logloss: 0.0567608\tvalid_1's binary_logloss: 0.0569007\n",
            "| \u001b[0m 8       \u001b[0m | \u001b[0m-0.05692 \u001b[0m | \u001b[0m 0.9215  \u001b[0m | \u001b[0m 7.291   \u001b[0m | \u001b[0m 189.3   \u001b[0m | \u001b[0m 0.1466  \u001b[0m | \u001b[0m 21.47   \u001b[0m | \u001b[0m 7.557   \u001b[0m | \u001b[0m 0.6453  \u001b[0m | \u001b[0m 0.1071  \u001b[0m | \u001b[0m 0.3441  \u001b[0m |\n",
            "Fold: 0\n",
            "Training until validation scores don't improve for 200 rounds.\n",
            "Did not meet early stopping. Best iteration is:\n",
            "[2]\ttraining's binary_logloss: 0.0563897\tvalid_1's binary_logloss: 0.0566948\n",
            "Fold: 1\n",
            "Training until validation scores don't improve for 200 rounds.\n",
            "Did not meet early stopping. Best iteration is:\n",
            "[2]\ttraining's binary_logloss: 0.0564492\tvalid_1's binary_logloss: 0.0566704\n",
            "Fold: 2\n",
            "Training until validation scores don't improve for 200 rounds.\n",
            "Did not meet early stopping. Best iteration is:\n",
            "[2]\ttraining's binary_logloss: 0.05644\tvalid_1's binary_logloss: 0.0567621\n",
            "| \u001b[95m 9       \u001b[0m | \u001b[95m-0.05671 \u001b[0m | \u001b[95m 0.6519  \u001b[0m | \u001b[95m 7.179   \u001b[0m | \u001b[95m 197.4   \u001b[0m | \u001b[95m 0.4381  \u001b[0m | \u001b[95m 22.3    \u001b[0m | \u001b[95m 12.49   \u001b[0m | \u001b[95m 0.03128 \u001b[0m | \u001b[95m 0.1584  \u001b[0m | \u001b[95m 0.6558  \u001b[0m |\n",
            "Fold: 0\n",
            "Training until validation scores don't improve for 200 rounds.\n",
            "Did not meet early stopping. Best iteration is:\n",
            "[2]\ttraining's binary_logloss: 0.05693\tvalid_1's binary_logloss: 0.0571005\n",
            "Fold: 1\n",
            "Training until validation scores don't improve for 200 rounds.\n",
            "Did not meet early stopping. Best iteration is:\n",
            "[2]\ttraining's binary_logloss: 0.0569159\tvalid_1's binary_logloss: 0.0570683\n",
            "Fold: 2\n",
            "Training until validation scores don't improve for 200 rounds.\n",
            "Did not meet early stopping. Best iteration is:\n",
            "[2]\ttraining's binary_logloss: 0.056954\tvalid_1's binary_logloss: 0.057082\n",
            "| \u001b[0m 10      \u001b[0m | \u001b[0m-0.05708 \u001b[0m | \u001b[0m 0.5061  \u001b[0m | \u001b[0m 9.346   \u001b[0m | \u001b[0m 17.15   \u001b[0m | \u001b[0m 0.8075  \u001b[0m | \u001b[0m 25.99   \u001b[0m | \u001b[0m 8.202   \u001b[0m | \u001b[0m 0.2076  \u001b[0m | \u001b[0m 0.839   \u001b[0m | \u001b[0m 0.02604 \u001b[0m |\n",
            "Fold: 0\n",
            "Training until validation scores don't improve for 200 rounds.\n",
            "Did not meet early stopping. Best iteration is:\n",
            "[2]\ttraining's binary_logloss: 0.0569927\tvalid_1's binary_logloss: 0.0572031\n",
            "Fold: 1\n",
            "Training until validation scores don't improve for 200 rounds.\n",
            "Did not meet early stopping. Best iteration is:\n",
            "[2]\ttraining's binary_logloss: 0.0569817\tvalid_1's binary_logloss: 0.0571303\n",
            "Fold: 2\n",
            "Training until validation scores don't improve for 200 rounds.\n",
            "Did not meet early stopping. Best iteration is:\n",
            "[2]\ttraining's binary_logloss: 0.0569907\tvalid_1's binary_logloss: 0.0572173\n",
            "| \u001b[0m 11      \u001b[0m | \u001b[0m-0.05718 \u001b[0m | \u001b[0m 0.332   \u001b[0m | \u001b[0m 4.699   \u001b[0m | \u001b[0m 191.2   \u001b[0m | \u001b[0m 0.9773  \u001b[0m | \u001b[0m 18.6    \u001b[0m | \u001b[0m 8.427   \u001b[0m | \u001b[0m 0.2989  \u001b[0m | \u001b[0m 0.6698  \u001b[0m | \u001b[0m 0.8078  \u001b[0m |\n",
            "Fold: 0\n",
            "Training until validation scores don't improve for 200 rounds.\n",
            "Did not meet early stopping. Best iteration is:\n",
            "[2]\ttraining's binary_logloss: 0.0568602\tvalid_1's binary_logloss: 0.057062\n",
            "Fold: 1\n",
            "Training until validation scores don't improve for 200 rounds.\n",
            "Did not meet early stopping. Best iteration is:\n",
            "[2]\ttraining's binary_logloss: 0.0567926\tvalid_1's binary_logloss: 0.0569624\n",
            "Fold: 2\n",
            "Training until validation scores don't improve for 200 rounds.\n",
            "Did not meet early stopping. Best iteration is:\n",
            "[2]\ttraining's binary_logloss: 0.0568883\tvalid_1's binary_logloss: 0.0570483\n",
            "| \u001b[0m 12      \u001b[0m | \u001b[0m-0.05702 \u001b[0m | \u001b[0m 0.5516  \u001b[0m | \u001b[0m 7.761   \u001b[0m | \u001b[0m 11.13   \u001b[0m | \u001b[0m 0.2013  \u001b[0m | \u001b[0m 32.5    \u001b[0m | \u001b[0m 9.81    \u001b[0m | \u001b[0m 0.3992  \u001b[0m | \u001b[0m 0.1627  \u001b[0m | \u001b[0m 0.8417  \u001b[0m |\n",
            "Fold: 0\n",
            "Training until validation scores don't improve for 200 rounds.\n",
            "Did not meet early stopping. Best iteration is:\n",
            "[2]\ttraining's binary_logloss: 0.0571522\tvalid_1's binary_logloss: 0.0572762\n",
            "Fold: 1\n",
            "Training until validation scores don't improve for 200 rounds.\n",
            "Did not meet early stopping. Best iteration is:\n",
            "[2]\ttraining's binary_logloss: 0.0571342\tvalid_1's binary_logloss: 0.0571282\n",
            "Fold: 2\n",
            "Training until validation scores don't improve for 200 rounds.\n",
            "Did not meet early stopping. Best iteration is:\n",
            "[2]\ttraining's binary_logloss: 0.0570789\tvalid_1's binary_logloss: 0.0572204\n",
            "| \u001b[0m 13      \u001b[0m | \u001b[0m-0.05721 \u001b[0m | \u001b[0m 0.8134  \u001b[0m | \u001b[0m 7.75    \u001b[0m | \u001b[0m 198.9   \u001b[0m | \u001b[0m 0.4136  \u001b[0m | \u001b[0m 32.53   \u001b[0m | \u001b[0m 5.792   \u001b[0m | \u001b[0m 0.4017  \u001b[0m | \u001b[0m 0.3354  \u001b[0m | \u001b[0m 0.02716 \u001b[0m |\n",
            "Fold: 0\n",
            "Training until validation scores don't improve for 200 rounds.\n",
            "Did not meet early stopping. Best iteration is:\n",
            "[2]\ttraining's binary_logloss: 0.0565361\tvalid_1's binary_logloss: 0.0568297\n",
            "Fold: 1\n",
            "Training until validation scores don't improve for 200 rounds.\n",
            "Did not meet early stopping. Best iteration is:\n",
            "[2]\ttraining's binary_logloss: 0.0565165\tvalid_1's binary_logloss: 0.0567901\n",
            "Fold: 2\n",
            "Training until validation scores don't improve for 200 rounds.\n",
            "Did not meet early stopping. Best iteration is:\n",
            "[2]\ttraining's binary_logloss: 0.0566069\tvalid_1's binary_logloss: 0.0568883\n",
            "| \u001b[0m 14      \u001b[0m | \u001b[0m-0.05684 \u001b[0m | \u001b[0m 0.5015  \u001b[0m | \u001b[0m 9.234   \u001b[0m | \u001b[0m 15.82   \u001b[0m | \u001b[0m 0.1412  \u001b[0m | \u001b[0m 19.66   \u001b[0m | \u001b[0m 13.93   \u001b[0m | \u001b[0m 0.8748  \u001b[0m | \u001b[0m 0.697   \u001b[0m | \u001b[0m 0.2006  \u001b[0m |\n",
            "Fold: 0\n",
            "Training until validation scores don't improve for 200 rounds.\n",
            "Did not meet early stopping. Best iteration is:\n",
            "[2]\ttraining's binary_logloss: 0.0570568\tvalid_1's binary_logloss: 0.057238\n",
            "Fold: 1\n",
            "Training until validation scores don't improve for 200 rounds.\n",
            "Did not meet early stopping. Best iteration is:\n",
            "[2]\ttraining's binary_logloss: 0.0571077\tvalid_1's binary_logloss: 0.057243\n",
            "Fold: 2\n",
            "Training until validation scores don't improve for 200 rounds.\n",
            "Did not meet early stopping. Best iteration is:\n",
            "[2]\ttraining's binary_logloss: 0.0569958\tvalid_1's binary_logloss: 0.0571971\n",
            "| \u001b[0m 15      \u001b[0m | \u001b[0m-0.05723 \u001b[0m | \u001b[0m 0.1827  \u001b[0m | \u001b[0m 8.079   \u001b[0m | \u001b[0m 19.6    \u001b[0m | \u001b[0m 0.8082  \u001b[0m | \u001b[0m 11.16   \u001b[0m | \u001b[0m 10.1    \u001b[0m | \u001b[0m 0.6827  \u001b[0m | \u001b[0m 0.08982 \u001b[0m | \u001b[0m 0.2434  \u001b[0m |\n",
            "Fold: 0\n",
            "Training until validation scores don't improve for 200 rounds.\n",
            "Did not meet early stopping. Best iteration is:\n",
            "[2]\ttraining's binary_logloss: 0.0571138\tvalid_1's binary_logloss: 0.0572487\n",
            "Fold: 1\n",
            "Training until validation scores don't improve for 200 rounds.\n",
            "Did not meet early stopping. Best iteration is:\n",
            "[2]\ttraining's binary_logloss: 0.0571091\tvalid_1's binary_logloss: 0.0572113\n",
            "Fold: 2\n",
            "Training until validation scores don't improve for 200 rounds.\n",
            "Did not meet early stopping. Best iteration is:\n",
            "[2]\ttraining's binary_logloss: 0.0571452\tvalid_1's binary_logloss: 0.0572294\n",
            "| \u001b[0m 16      \u001b[0m | \u001b[0m-0.05723 \u001b[0m | \u001b[0m 0.5508  \u001b[0m | \u001b[0m 4.282   \u001b[0m | \u001b[0m 195.3   \u001b[0m | \u001b[0m 0.5093  \u001b[0m | \u001b[0m 16.71   \u001b[0m | \u001b[0m 6.024   \u001b[0m | \u001b[0m 0.8324  \u001b[0m | \u001b[0m 0.5825  \u001b[0m | \u001b[0m 0.7931  \u001b[0m |\n",
            "Fold: 0\n",
            "Training until validation scores don't improve for 200 rounds.\n",
            "Did not meet early stopping. Best iteration is:\n",
            "[2]\ttraining's binary_logloss: 0.0570039\tvalid_1's binary_logloss: 0.0571799\n",
            "Fold: 1\n",
            "Training until validation scores don't improve for 200 rounds.\n",
            "Did not meet early stopping. Best iteration is:\n",
            "[2]\ttraining's binary_logloss: 0.0569994\tvalid_1's binary_logloss: 0.057107\n",
            "Fold: 2\n",
            "Training until validation scores don't improve for 200 rounds.\n",
            "Did not meet early stopping. Best iteration is:\n",
            "[2]\ttraining's binary_logloss: 0.0570493\tvalid_1's binary_logloss: 0.0571381\n",
            "| \u001b[0m 17      \u001b[0m | \u001b[0m-0.05714 \u001b[0m | \u001b[0m 0.5109  \u001b[0m | \u001b[0m 8.673   \u001b[0m | \u001b[0m 11.45   \u001b[0m | \u001b[0m 0.09534 \u001b[0m | \u001b[0m 13.31   \u001b[0m | \u001b[0m 7.109   \u001b[0m | \u001b[0m 0.2658  \u001b[0m | \u001b[0m 0.1426  \u001b[0m | \u001b[0m 0.2343  \u001b[0m |\n",
            "Fold: 0\n",
            "Training until validation scores don't improve for 200 rounds.\n",
            "Did not meet early stopping. Best iteration is:\n",
            "[2]\ttraining's binary_logloss: 0.0567819\tvalid_1's binary_logloss: 0.0569957\n",
            "Fold: 1\n",
            "Training until validation scores don't improve for 200 rounds.\n",
            "Did not meet early stopping. Best iteration is:\n",
            "[2]\ttraining's binary_logloss: 0.0568885\tvalid_1's binary_logloss: 0.0569563\n",
            "Fold: 2\n",
            "Training until validation scores don't improve for 200 rounds.\n",
            "Did not meet early stopping. Best iteration is:\n",
            "[2]\ttraining's binary_logloss: 0.0567685\tvalid_1's binary_logloss: 0.0569031\n",
            "| \u001b[0m 18      \u001b[0m | \u001b[0m-0.05695 \u001b[0m | \u001b[0m 0.5871  \u001b[0m | \u001b[0m 7.407   \u001b[0m | \u001b[0m 197.2   \u001b[0m | \u001b[0m 0.4472  \u001b[0m | \u001b[0m 10.61   \u001b[0m | \u001b[0m 7.688   \u001b[0m | \u001b[0m 0.4791  \u001b[0m | \u001b[0m 0.3365  \u001b[0m | \u001b[0m 0.9493  \u001b[0m |\n",
            "Fold: 0\n",
            "Training until validation scores don't improve for 200 rounds.\n",
            "Did not meet early stopping. Best iteration is:\n",
            "[2]\ttraining's binary_logloss: 0.0571517\tvalid_1's binary_logloss: 0.0572757\n",
            "Fold: 1\n",
            "Training until validation scores don't improve for 200 rounds.\n",
            "Did not meet early stopping. Best iteration is:\n",
            "[2]\ttraining's binary_logloss: 0.0571335\tvalid_1's binary_logloss: 0.0571276\n",
            "Fold: 2\n",
            "Training until validation scores don't improve for 200 rounds.\n",
            "Did not meet early stopping. Best iteration is:\n",
            "[2]\ttraining's binary_logloss: 0.0570781\tvalid_1's binary_logloss: 0.0572197\n",
            "| \u001b[0m 19      \u001b[0m | \u001b[0m-0.05721 \u001b[0m | \u001b[0m 0.6832  \u001b[0m | \u001b[0m 9.845   \u001b[0m | \u001b[0m 12.07   \u001b[0m | \u001b[0m 0.9544  \u001b[0m | \u001b[0m 25.49   \u001b[0m | \u001b[0m 5.876   \u001b[0m | \u001b[0m 0.4976  \u001b[0m | \u001b[0m 0.5191  \u001b[0m | \u001b[0m 0.04822 \u001b[0m |\n",
            "Fold: 0\n",
            "Training until validation scores don't improve for 200 rounds.\n",
            "Did not meet early stopping. Best iteration is:\n",
            "[4]\ttraining's binary_logloss: 0.0519833\tvalid_1's binary_logloss: 0.0551583\n",
            "Fold: 1\n",
            "Training until validation scores don't improve for 200 rounds.\n",
            "Did not meet early stopping. Best iteration is:\n",
            "[4]\ttraining's binary_logloss: 0.0515663\tvalid_1's binary_logloss: 0.054733\n",
            "Fold: 2\n",
            "Training until validation scores don't improve for 200 rounds.\n",
            "Did not meet early stopping. Best iteration is:\n",
            "[4]\ttraining's binary_logloss: 0.0520272\tvalid_1's binary_logloss: 0.0550207\n",
            "| \u001b[95m 20      \u001b[0m | \u001b[95m-0.05497 \u001b[0m | \u001b[95m 0.9167  \u001b[0m | \u001b[95m 9.633   \u001b[0m | \u001b[95m 21.23   \u001b[0m | \u001b[95m 0.6328  \u001b[0m | \u001b[95m 13.74   \u001b[0m | \u001b[95m 194.8   \u001b[0m | \u001b[95m 0.7155  \u001b[0m | \u001b[95m 0.3936  \u001b[0m | \u001b[95m 0.04018 \u001b[0m |\n",
            "Fold: 0\n",
            "Training until validation scores don't improve for 200 rounds.\n",
            "Did not meet early stopping. Best iteration is:\n",
            "[4]\ttraining's binary_logloss: 0.0520613\tvalid_1's binary_logloss: 0.0550825\n",
            "Fold: 1\n",
            "Training until validation scores don't improve for 200 rounds.\n",
            "Did not meet early stopping. Best iteration is:\n",
            "[4]\ttraining's binary_logloss: 0.0513779\tvalid_1's binary_logloss: 0.054792\n",
            "Fold: 2\n",
            "Training until validation scores don't improve for 200 rounds.\n",
            "Did not meet early stopping. Best iteration is:\n",
            "[4]\ttraining's binary_logloss: 0.0524009\tvalid_1's binary_logloss: 0.0552687\n",
            "| \u001b[0m 21      \u001b[0m | \u001b[0m-0.05505 \u001b[0m | \u001b[0m 0.7614  \u001b[0m | \u001b[0m 9.164   \u001b[0m | \u001b[0m 14.73   \u001b[0m | \u001b[0m 0.4699  \u001b[0m | \u001b[0m 16.71   \u001b[0m | \u001b[0m 189.4   \u001b[0m | \u001b[0m 0.7236  \u001b[0m | \u001b[0m 0.4376  \u001b[0m | \u001b[0m 0.3014  \u001b[0m |\n",
            "Fold: 0\n",
            "Training until validation scores don't improve for 200 rounds.\n",
            "Did not meet early stopping. Best iteration is:\n",
            "[3]\ttraining's binary_logloss: 0.0546592\tvalid_1's binary_logloss: 0.056167\n",
            "Fold: 1\n",
            "Training until validation scores don't improve for 200 rounds.\n",
            "Did not meet early stopping. Best iteration is:\n",
            "[4]\ttraining's binary_logloss: 0.0542931\tvalid_1's binary_logloss: 0.0562054\n",
            "Fold: 2\n",
            "Training until validation scores don't improve for 200 rounds.\n",
            "Did not meet early stopping. Best iteration is:\n",
            "[2]\ttraining's binary_logloss: 0.0547566\tvalid_1's binary_logloss: 0.0558879\n",
            "| \u001b[0m 22      \u001b[0m | \u001b[0m-0.05609 \u001b[0m | \u001b[0m 0.6017  \u001b[0m | \u001b[0m 7.136   \u001b[0m | \u001b[0m 26.52   \u001b[0m | \u001b[0m 0.5765  \u001b[0m | \u001b[0m 16.33   \u001b[0m | \u001b[0m 199.7   \u001b[0m | \u001b[0m 0.2197  \u001b[0m | \u001b[0m 0.4992  \u001b[0m | \u001b[0m 0.3121  \u001b[0m |\n",
            "Fold: 0\n",
            "Training until validation scores don't improve for 200 rounds.\n",
            "Did not meet early stopping. Best iteration is:\n",
            "[2]\ttraining's binary_logloss: 0.0558596\tvalid_1's binary_logloss: 0.0563331\n",
            "Fold: 1\n",
            "Training until validation scores don't improve for 200 rounds.\n",
            "Did not meet early stopping. Best iteration is:\n",
            "[2]\ttraining's binary_logloss: 0.0557167\tvalid_1's binary_logloss: 0.0562426\n",
            "Fold: 2\n",
            "Training until validation scores don't improve for 200 rounds.\n",
            "Did not meet early stopping. Best iteration is:\n",
            "[2]\ttraining's binary_logloss: 0.0558013\tvalid_1's binary_logloss: 0.0562617\n",
            "| \u001b[0m 23      \u001b[0m | \u001b[0m-0.05628 \u001b[0m | \u001b[0m 0.8871  \u001b[0m | \u001b[0m 5.363   \u001b[0m | \u001b[0m 16.42   \u001b[0m | \u001b[0m 0.9044  \u001b[0m | \u001b[0m 46.26   \u001b[0m | \u001b[0m 198.4   \u001b[0m | \u001b[0m 0.4426  \u001b[0m | \u001b[0m 0.344   \u001b[0m | \u001b[0m 0.1517  \u001b[0m |\n",
            "Fold: 0\n",
            "Training until validation scores don't improve for 200 rounds.\n",
            "Did not meet early stopping. Best iteration is:\n",
            "[2]\ttraining's binary_logloss: 0.0573849\tvalid_1's binary_logloss: 0.0583586\n",
            "Fold: 1\n",
            "Training until validation scores don't improve for 200 rounds.\n",
            "Did not meet early stopping. Best iteration is:\n",
            "[2]\ttraining's binary_logloss: 0.0574816\tvalid_1's binary_logloss: 0.0583466\n",
            "Fold: 2\n",
            "Training until validation scores don't improve for 200 rounds.\n",
            "Did not meet early stopping. Best iteration is:\n",
            "[2]\ttraining's binary_logloss: 0.0576085\tvalid_1's binary_logloss: 0.0582464\n",
            "| \u001b[0m 24      \u001b[0m | \u001b[0m-0.05832 \u001b[0m | \u001b[0m 0.158   \u001b[0m | \u001b[0m 6.02    \u001b[0m | \u001b[0m 10.33   \u001b[0m | \u001b[0m 0.1118  \u001b[0m | \u001b[0m 27.8    \u001b[0m | \u001b[0m 199.0   \u001b[0m | \u001b[0m 0.3357  \u001b[0m | \u001b[0m 0.9627  \u001b[0m | \u001b[0m 0.2792  \u001b[0m |\n",
            "Fold: 0\n",
            "Training until validation scores don't improve for 200 rounds.\n",
            "Did not meet early stopping. Best iteration is:\n",
            "[2]\ttraining's binary_logloss: 0.0557452\tvalid_1's binary_logloss: 0.0562233\n",
            "Fold: 1\n",
            "Training until validation scores don't improve for 200 rounds.\n",
            "Did not meet early stopping. Best iteration is:\n",
            "[2]\ttraining's binary_logloss: 0.0557524\tvalid_1's binary_logloss: 0.0562131\n",
            "Fold: 2\n",
            "Training until validation scores don't improve for 200 rounds.\n",
            "Did not meet early stopping. Best iteration is:\n",
            "[2]\ttraining's binary_logloss: 0.0558143\tvalid_1's binary_logloss: 0.0562843\n",
            "| \u001b[0m 25      \u001b[0m | \u001b[0m-0.05624 \u001b[0m | \u001b[0m 0.978   \u001b[0m | \u001b[0m 5.244   \u001b[0m | \u001b[0m 199.3   \u001b[0m | \u001b[0m 0.6978  \u001b[0m | \u001b[0m 37.97   \u001b[0m | \u001b[0m 198.6   \u001b[0m | \u001b[0m 0.6852  \u001b[0m | \u001b[0m 0.1873  \u001b[0m | \u001b[0m 0.3685  \u001b[0m |\n",
            "Fold: 0\n",
            "Training until validation scores don't improve for 200 rounds.\n",
            "Did not meet early stopping. Best iteration is:\n",
            "[3]\ttraining's binary_logloss: 0.0549424\tvalid_1's binary_logloss: 0.0565616\n",
            "Fold: 1\n",
            "Training until validation scores don't improve for 200 rounds.\n",
            "Did not meet early stopping. Best iteration is:\n",
            "[3]\ttraining's binary_logloss: 0.054538\tvalid_1's binary_logloss: 0.05623\n",
            "Fold: 2\n",
            "Training until validation scores don't improve for 200 rounds.\n",
            "Did not meet early stopping. Best iteration is:\n",
            "[3]\ttraining's binary_logloss: 0.0548205\tvalid_1's binary_logloss: 0.0563128\n",
            "| \u001b[0m 26      \u001b[0m | \u001b[0m-0.05637 \u001b[0m | \u001b[0m 0.2175  \u001b[0m | \u001b[0m 8.003   \u001b[0m | \u001b[0m 181.4   \u001b[0m | \u001b[0m 0.9701  \u001b[0m | \u001b[0m 36.58   \u001b[0m | \u001b[0m 195.3   \u001b[0m | \u001b[0m 0.8679  \u001b[0m | \u001b[0m 0.947   \u001b[0m | \u001b[0m 0.711   \u001b[0m |\n",
            "Fold: 0\n",
            "Training until validation scores don't improve for 200 rounds.\n",
            "Did not meet early stopping. Best iteration is:\n",
            "[1]\ttraining's binary_logloss: 0.0584891\tvalid_1's binary_logloss: 0.0588841\n",
            "Fold: 1\n",
            "Training until validation scores don't improve for 200 rounds.\n",
            "Did not meet early stopping. Best iteration is:\n",
            "[1]\ttraining's binary_logloss: 0.0584375\tvalid_1's binary_logloss: 0.0588166\n",
            "Fold: 2\n",
            "Training until validation scores don't improve for 200 rounds.\n",
            "Did not meet early stopping. Best iteration is:\n",
            "[1]\ttraining's binary_logloss: 0.0585097\tvalid_1's binary_logloss: 0.05879\n",
            "| \u001b[0m 27      \u001b[0m | \u001b[0m-0.05883 \u001b[0m | \u001b[0m 0.1194  \u001b[0m | \u001b[0m 5.007   \u001b[0m | \u001b[0m 11.08   \u001b[0m | \u001b[0m 0.6708  \u001b[0m | \u001b[0m 21.12   \u001b[0m | \u001b[0m 196.7   \u001b[0m | \u001b[0m 0.1286  \u001b[0m | \u001b[0m 0.1737  \u001b[0m | \u001b[0m 0.02684 \u001b[0m |\n",
            "Fold: 0\n",
            "Training until validation scores don't improve for 200 rounds.\n",
            "Early stopping, best iteration is:\n",
            "[3]\ttraining's binary_logloss: 0.0531447\tvalid_1's binary_logloss: 0.0552431\n",
            "Fold: 1\n",
            "Training until validation scores don't improve for 200 rounds.\n",
            "Early stopping, best iteration is:\n",
            "[3]\ttraining's binary_logloss: 0.0531289\tvalid_1's binary_logloss: 0.0553144\n",
            "Fold: 2\n",
            "Training until validation scores don't improve for 200 rounds.\n",
            "Early stopping, best iteration is:\n",
            "[3]\ttraining's binary_logloss: 0.0530548\tvalid_1's binary_logloss: 0.0552897\n",
            "| \u001b[0m 28      \u001b[0m | \u001b[0m-0.05528 \u001b[0m | \u001b[0m 0.8351  \u001b[0m | \u001b[0m 9.226   \u001b[0m | \u001b[0m 191.0   \u001b[0m | \u001b[0m 0.1523  \u001b[0m | \u001b[0m 744.0   \u001b[0m | \u001b[0m 193.4   \u001b[0m | \u001b[0m 0.5107  \u001b[0m | \u001b[0m 0.7415  \u001b[0m | \u001b[0m 0.2687  \u001b[0m |\n",
            "Fold: 0\n",
            "Training until validation scores don't improve for 200 rounds.\n",
            "Early stopping, best iteration is:\n",
            "[2]\ttraining's binary_logloss: 0.05591\tvalid_1's binary_logloss: 0.0563751\n",
            "Fold: 1\n",
            "Training until validation scores don't improve for 200 rounds.\n",
            "Early stopping, best iteration is:\n",
            "[2]\ttraining's binary_logloss: 0.0557999\tvalid_1's binary_logloss: 0.0562964\n",
            "Fold: 2\n",
            "Training until validation scores don't improve for 200 rounds.\n",
            "Early stopping, best iteration is:\n",
            "[2]\ttraining's binary_logloss: 0.0559864\tvalid_1's binary_logloss: 0.0565048\n",
            "| \u001b[0m 29      \u001b[0m | \u001b[0m-0.05639 \u001b[0m | \u001b[0m 0.8366  \u001b[0m | \u001b[0m 5.627   \u001b[0m | \u001b[0m 195.6   \u001b[0m | \u001b[0m 0.7908  \u001b[0m | \u001b[0m 736.8   \u001b[0m | \u001b[0m 197.1   \u001b[0m | \u001b[0m 0.3256  \u001b[0m | \u001b[0m 0.1841  \u001b[0m | \u001b[0m 0.762   \u001b[0m |\n",
            "Fold: 0\n",
            "Training until validation scores don't improve for 200 rounds.\n",
            "Early stopping, best iteration is:\n",
            "[2]\ttraining's binary_logloss: 0.0539084\tvalid_1's binary_logloss: 0.0559074\n",
            "Fold: 1\n",
            "Training until validation scores don't improve for 200 rounds.\n",
            "Early stopping, best iteration is:\n",
            "[4]\ttraining's binary_logloss: 0.0526423\tvalid_1's binary_logloss: 0.0557302\n",
            "Fold: 2\n",
            "Training until validation scores don't improve for 200 rounds.\n",
            "Early stopping, best iteration is:\n",
            "[2]\ttraining's binary_logloss: 0.0539816\tvalid_1's binary_logloss: 0.055957\n",
            "| \u001b[0m 30      \u001b[0m | \u001b[0m-0.05586 \u001b[0m | \u001b[0m 0.4937  \u001b[0m | \u001b[0m 9.996   \u001b[0m | \u001b[0m 184.3   \u001b[0m | \u001b[0m 0.4021  \u001b[0m | \u001b[0m 729.1   \u001b[0m | \u001b[0m 197.6   \u001b[0m | \u001b[0m 0.7687  \u001b[0m | \u001b[0m 0.0468  \u001b[0m | \u001b[0m 0.7728  \u001b[0m |\n",
            "Fold: 0\n",
            "Training until validation scores don't improve for 200 rounds.\n",
            "Early stopping, best iteration is:\n",
            "[1]\ttraining's binary_logloss: 0.0574329\tvalid_1's binary_logloss: 0.0586522\n",
            "Fold: 1\n",
            "Training until validation scores don't improve for 200 rounds.\n",
            "Early stopping, best iteration is:\n",
            "[1]\ttraining's binary_logloss: 0.0573877\tvalid_1's binary_logloss: 0.0586431\n",
            "Fold: 2\n",
            "Training until validation scores don't improve for 200 rounds.\n",
            "Early stopping, best iteration is:\n",
            "[1]\ttraining's binary_logloss: 0.057586\tvalid_1's binary_logloss: 0.0586031\n",
            "| \u001b[0m 31      \u001b[0m | \u001b[0m-0.05863 \u001b[0m | \u001b[0m 0.08332 \u001b[0m | \u001b[0m 9.528   \u001b[0m | \u001b[0m 192.9   \u001b[0m | \u001b[0m 0.726   \u001b[0m | \u001b[0m 747.5   \u001b[0m | \u001b[0m 197.3   \u001b[0m | \u001b[0m 0.2234  \u001b[0m | \u001b[0m 0.716   \u001b[0m | \u001b[0m 0.9005  \u001b[0m |\n",
            "Fold: 0\n",
            "Training until validation scores don't improve for 200 rounds.\n",
            "Did not meet early stopping. Best iteration is:\n",
            "[4]\ttraining's binary_logloss: 0.0531592\tvalid_1's binary_logloss: 0.0555087\n",
            "Fold: 1\n",
            "Training until validation scores don't improve for 200 rounds.\n",
            "Did not meet early stopping. Best iteration is:\n",
            "[4]\ttraining's binary_logloss: 0.052959\tvalid_1's binary_logloss: 0.0553575\n",
            "Fold: 2\n",
            "Training until validation scores don't improve for 200 rounds.\n",
            "Did not meet early stopping. Best iteration is:\n",
            "[4]\ttraining's binary_logloss: 0.0534136\tvalid_1's binary_logloss: 0.05559\n",
            "| \u001b[0m 32      \u001b[0m | \u001b[0m-0.05549 \u001b[0m | \u001b[0m 0.7717  \u001b[0m | \u001b[0m 9.669   \u001b[0m | \u001b[0m 187.9   \u001b[0m | \u001b[0m 0.05605 \u001b[0m | \u001b[0m 13.57   \u001b[0m | \u001b[0m 188.1   \u001b[0m | \u001b[0m 0.4664  \u001b[0m | \u001b[0m 0.9795  \u001b[0m | \u001b[0m 0.6266  \u001b[0m |\n",
            "=====================================================================================================================================\n",
            "Time taken 1094.5479657649994\n",
            "----------------------------------------------------------------------------------------------------------------------------------\n",
            "Final Results\n",
            "Maximum  value: -0.054971\n",
            "Best  parameters:  {'colsample_bytree': 0.916696198086027, 'max_depth': 9.633270599649617, 'min_child_samples': 21.22845335671823, 'min_split_gain': 0.6328282464527148, 'n_estimators': 13.73601660809571, 'num_leaves': 194.78993625112014, 'reg_alpha': 0.7154684277016825, 'reg_lambda': 0.3936289516480598, 'subsample': 0.040175028233326415}\n"
          ]
        }
      ]
    },
    {
      "cell_type": "markdown",
      "metadata": {
        "id": "gkSxOIRfrbfk"
      },
      "source": [
        "'colsample_bytree': 0.916696198086027, 'max_depth': 9.633270599649617, 'min_child_samples': 21.22845335671823, 'min_split_gain': 0.6328282464527148, 'n_estimators': 13.73601660809571, 'num_leaves': 194.78993625112014, 'reg_alpha': 0.7154684277016825, 'reg_lambda': 0.3936289516480598, 'subsample': 0.040175028233326415"
      ]
    },
    {
      "cell_type": "markdown",
      "metadata": {
        "id": "NLtRMANyfiGQ"
      },
      "source": [
        "# Training with the best parameters"
      ]
    },
    {
      "cell_type": "markdown",
      "metadata": {
        "id": "Y87CzK2RcgAu"
      },
      "source": [
        "위 코드에서 구한 최고의 하이퍼 파라미터로 학습시켜봅니다.\n",
        "param dict에 베스트 파라미터를 입력합니다.\n",
        "leaves, max_depth, min_child_samples는 int의 형태를 갖고 있어야해서 반올림해줍니다."
      ]
    },
    {
      "cell_type": "code",
      "metadata": {
        "id": "3--ZsSnVpHN_"
      },
      "source": [
        "params = {\n",
        "          'colsample_bytree': 0.916696198086027,\n",
        "          'max_depth': 10,\n",
        "          'min_child_samples': 21,\n",
        "          'min_split_gain': 0.6328282464527148,\n",
        "          'n_estimators': 13.73601660809571,\n",
        "          'num_leaves': 195,\n",
        "          'reg_alpha': 0.7154684277016825,\n",
        "          'reg_lambda': 0.3936289516480598,\n",
        "          'subsample': 0.040175028233326415\n",
        "          }"
      ],
      "execution_count": null,
      "outputs": []
    },
    {
      "cell_type": "code",
      "metadata": {
        "id": "oEXUXCIypi18"
      },
      "source": [
        "trn_data = lgb.Dataset(train, label=y_data)\n",
        "\n",
        "clf = lgb.train(params,\n",
        "                trn_data,\n",
        "                10000,\n",
        "                verbose_eval=500)"
      ],
      "execution_count": null,
      "outputs": []
    },
    {
      "cell_type": "code",
      "metadata": {
        "id": "G2OLt80xp3ao"
      },
      "source": [
        "train_preds = clf.predict(train)"
      ],
      "execution_count": null,
      "outputs": []
    },
    {
      "cell_type": "markdown",
      "metadata": {
        "id": "9hvgxaLDqqlc"
      },
      "source": [
        "# Save the model"
      ]
    },
    {
      "cell_type": "code",
      "metadata": {
        "id": "zVmx8APKqt4r"
      },
      "source": [
        "with open('Binary_Classification.pkl', 'wb') as f:\n",
        "  pickle.dump(clf, f)"
      ],
      "execution_count": null,
      "outputs": []
    },
    {
      "cell_type": "code",
      "metadata": {
        "id": "DidZsowgq6sT"
      },
      "source": [
        "with open('Binary_Classification.pkl', 'rb') as f:\n",
        "  clf = pickle.load(f)"
      ],
      "execution_count": null,
      "outputs": []
    },
    {
      "cell_type": "markdown",
      "metadata": {
        "id": "-BgZ_dGdrG3U"
      },
      "source": [
        "# Result:"
      ]
    },
    {
      "cell_type": "markdown",
      "metadata": {
        "id": "8zqRrJUjrgKm"
      },
      "source": [
        "AUC score : out lier냐 아니냐를 구분하는 모델의 정확도를 구해봅시다."
      ]
    },
    {
      "cell_type": "code",
      "metadata": {
        "colab": {
          "base_uri": "https://localhost:8080/",
          "height": 295
        },
        "id": "ilR0zkZFrok7",
        "outputId": "d68423cf-f89b-4665-87ec-b691f47f9e74"
      },
      "source": [
        "plt.plot([0,1], [0,1], 'k--')\n",
        "\n",
        "fpr, tpr, threshold = roc_curve(y_data, train_preds)\n",
        "auc_score = roc_auc_score(y_data, train_preds)\n",
        "plt.plot(fpr, tpr, label=\"train AUC:\" +str(auc_score))\n",
        "\n",
        "plt.legend()\n",
        "plt.xlabel(\"FPR\")\n",
        "plt.ylabel(\"TPR\")\n",
        "plt.title(\"ROC Curve\")\n",
        "plt.show()"
      ],
      "execution_count": null,
      "outputs": [
        {
          "output_type": "display_data",
          "data": {
            "image/png": "[encoded data removed]",
            "text/plain": [
              "<Figure size 432x288 with 1 Axes>"
            ]
          },
          "metadata": {
            "needs_background": "light"
          }
        }
      ]
    },
    {
      "cell_type": "markdown",
      "metadata": {
        "id": "qT56O-CYsJMz"
      },
      "source": [
        "Confusion Matrix도 만들어 봅니다."
      ]
    },
    {
      "cell_type": "code",
      "metadata": {
        "id": "CS8Z2F2PsgWl"
      },
      "source": [
        "def plot_confusion_matrix(cm,\n",
        "                          target_names,\n",
        "                          title='Confusion matrix',\n",
        "                          cmap=None,\n",
        "                          normalize=True):\n",
        "    \"\"\"\n",
        "    given a sklearn confusion matrix (cm), make a nice plot\n",
        "\n",
        "    Arguments\n",
        "    ---------\n",
        "    cm:           confusion matrix from sklearn.metrics.confusion_matrix\n",
        "\n",
        "    target_names: given classification classes such as [0, 1, 2]\n",
        "                  the class names, for example: ['high', 'medium', 'low']\n",
        "\n",
        "    title:        the text to display at the top of the matrix\n",
        "\n",
        "    cmap:         the gradient of the values displayed from matplotlib.pyplot.cm\n",
        "                  see http://matplotlib.org/examples/color/colormaps_reference.html\n",
        "                  plt.get_cmap('jet') or plt.cm.Blues\n",
        "\n",
        "    normalize:    If False, plot the raw numbers\n",
        "                  If True, plot the proportions\n",
        "\n",
        "    Usage\n",
        "    -----\n",
        "    plot_confusion_matrix(cm           = cm,                  # confusion matrix created by\n",
        "                                                              # sklearn.metrics.confusion_matrix\n",
        "                          normalize    = True,                # show proportions\n",
        "                          target_names = y_labels_vals,       # list of names of the classes\n",
        "                          title        = best_estimator_name) # title of graph\n",
        "\n",
        "    Citiation\n",
        "    ---------\n",
        "    http://scikit-learn.org/stable/auto_examples/model_selection/plot_confusion_matrix.html\n",
        "\n",
        "    \"\"\"\n",
        "    import matplotlib.pyplot as plt\n",
        "    import numpy as np\n",
        "    import itertools\n",
        "\n",
        "    accuracy = np.trace(cm) / np.sum(cm).astype('float')\n",
        "    misclass = 1 - accuracy\n",
        "\n",
        "    if cmap is None:\n",
        "        cmap = plt.get_cmap('Blues')\n",
        "\n",
        "    plt.figure(figsize=(8, 6))\n",
        "    plt.imshow(cm, interpolation='nearest', cmap=cmap)\n",
        "    plt.title(title)\n",
        "    plt.colorbar()\n",
        "\n",
        "    if target_names is not None:\n",
        "        tick_marks = np.arange(len(target_names))\n",
        "        plt.xticks(tick_marks, target_names, rotation=45)\n",
        "        plt.yticks(tick_marks, target_names)\n",
        "        plt.grid(False)\n",
        "\n",
        "    if normalize:\n",
        "        cm = cm.astype('float') / cm.sum(axis=1)[:, np.newaxis]\n",
        "\n",
        "\n",
        "    thresh = cm.max() / 1.5 if normalize else cm.max() / 2\n",
        "    for i, j in itertools.product(range(cm.shape[0]), range(cm.shape[1])):\n",
        "        if normalize:\n",
        "            plt.text(j, i, \"{:0.4f}\".format(cm[i, j]),\n",
        "                     horizontalalignment=\"center\",\n",
        "                     color=\"white\" if cm[i, j] > thresh else \"black\")\n",
        "        else:\n",
        "            plt.text(j, i, \"{:,}\".format(cm[i, j]),\n",
        "                     horizontalalignment=\"center\",\n",
        "                     color=\"white\" if cm[i, j] > thresh else \"black\")"
      ],
      "execution_count": null,
      "outputs": []
    },
    {
      "cell_type": "code",
      "metadata": {
        "colab": {
          "base_uri": "https://localhost:8080/",
          "height": 428
        },
        "id": "2TEz6sh8vKD3",
        "outputId": "cc770b49-c6f3-43d8-9084-09c62b4ed325"
      },
      "source": [
        "\n",
        "#This is decided based on trial and error\n",
        "threshold = 0.030\n",
        "train_pred_labels = np.where(train_preds > threshold, 1, 0)\n",
        "#test_predictions_labels = np.where(test_predictions > threshold, 1, 0)\n",
        "\n",
        "print(\"Train accuracy:\", accuracy_score(train_pred_labels, y_data))\n",
        "print('*'*50)\n",
        "plot_confusion_matrix(confusion_matrix(train_pred_labels, y_data), target_names=[0,1], normalize=False, cmap= plt.get_cmap('plasma_r'))"
      ],
      "execution_count": null,
      "outputs": [
        {
          "output_type": "stream",
          "name": "stdout",
          "text": [
            "Train accuracy: 0.9403913489205961\n",
            "**************************************************\n"
          ]
        },
        {
          "output_type": "display_data",
          "data": {
            "image/png": "[encoded data removed]",
            "text/plain": [
              "<Figure size 576x432 with 2 Axes>"
            ]
          },
          "metadata": {
            "needs_background": "light"
          }
        }
      ]
    },
    {
      "cell_type": "code",
      "metadata": {
        "id": "5p3MFU8gvtAN"
      },
      "source": [
        "with open('Binary_Classification.pkl', 'rb') as f:\n",
        "  clf = pickle.load(f)"
      ],
      "execution_count": null,
      "outputs": []
    },
    {
      "cell_type": "markdown",
      "metadata": {
        "id": "D1F_CyHUxEFS"
      },
      "source": [
        "# Prob predictions for actual test data"
      ]
    },
    {
      "cell_type": "code",
      "metadata": {
        "id": "L1XWTy4BxHG6"
      },
      "source": [
        "train_prob = clf.predict(train)\n",
        "test_prob = clf.predict(test)\n",
        "\n",
        "threshold = 0.030\n",
        "\n",
        "train_labels = np.where(train_prob > threshold, 1, 0)\n",
        "test_labels = np.where(test_prob > threshold, 1, 0)"
      ],
      "execution_count": null,
      "outputs": []
    },
    {
      "cell_type": "code",
      "metadata": {
        "colab": {
          "base_uri": "https://localhost:8080/"
        },
        "id": "yThsNDLVxX-o",
        "outputId": "c8a4d131-6248-4fef-d8b9-74601dd7f59f"
      },
      "source": [
        "print(\"Accuracy on entire train data:\", accuracy_score(train_labels, y_data))"
      ],
      "execution_count": null,
      "outputs": [
        {
          "output_type": "stream",
          "name": "stdout",
          "text": [
            "Accuracy on entire train data: 0.9403913489205961\n"
          ]
        }
      ]
    },
    {
      "cell_type": "code",
      "metadata": {
        "id": "VmFzUZVYxo_w"
      },
      "source": [
        "# Saving our predictions for further use\n",
        "with open('prob_labels_train.pkl', 'wb') as f:\n",
        "  pickle.dump(train_prob, f)\n",
        "\n",
        "with open('prob_labels_test.pkl', 'wb') as f:\n",
        "  pickle.dump(test_prob, f)"
      ],
      "execution_count": null,
      "outputs": []
    },
    {
      "cell_type": "code",
      "metadata": {
        "id": "ABZCdoJUycix"
      },
      "source": [
        "# Saving our predictions for further use\n",
        "with open('predicted_labels_train.pkl', 'wb') as f:\n",
        "  pickle.dump(train_labels, f)\n",
        "\n",
        "with open('predicted_labels_test.pkl', 'wb') as f:\n",
        "  pickle.dump(test_labels, f)"
      ],
      "execution_count": null,
      "outputs": []
    },
    {
      "cell_type": "code",
      "metadata": {
        "id": "-PXkkhcYyeA-"
      },
      "source": [
        ""
      ],
      "execution_count": null,
      "outputs": []
    }
  ]
}