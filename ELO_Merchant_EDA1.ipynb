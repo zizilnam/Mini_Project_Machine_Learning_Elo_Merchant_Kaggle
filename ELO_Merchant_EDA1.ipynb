{
  "nbformat": 4,
  "nbformat_minor": 0,
  "metadata": {
    "colab": {
      "name": "ELO_Merchant_EDA1",
      "provenance": [],
      "mount_file_id": "1GhKXeLz0UUyToW2KxM-vc6QkCk-SPvrH",
      "authorship_tag": "ABX9TyN2Xz59ZQo88wL3xDY+DFEL",
      "include_colab_link": true
    },
    "kernelspec": {
      "name": "python3",
      "display_name": "Python 3"
    },
    "language_info": {
      "name": "python"
    }
  },
  "cells": [
    {
      "cell_type": "markdown",
      "metadata": {
        "id": "view-in-github",
        "colab_type": "text"
      },
      "source": [
        "<a href=\"https://colab.research.google.com/github/zizilnam/Mini_Project_Machine_Learning_Elo_Merchant_Kaggle/blob/main/ELO_Merchant_EDA1.ipynb\" target=\"_parent\"><img src=\"https://colab.research.google.com/assets/colab-badge.svg\" alt=\"Open In Colab\"/></a>"
      ]
    },
    {
      "cell_type": "markdown",
      "metadata": {
        "id": "brW_kZXhKbf3"
      },
      "source": [
        "# Elo Merchant Category Recommendation\n",
        "\n",
        "https://www.kaggle.com/sudalairajkumar/simple-exploration-notebook-elo"
      ]
    },
    {
      "cell_type": "markdown",
      "metadata": {
        "id": "aKlWUCNVPLU6"
      },
      "source": [
        "이번 프로젝트의 목표는 고객 충성도를 알아내서 가장 연관성 높은 기회를 개인에게 제공하는 것입니다!"
      ]
    },
    {
      "cell_type": "code",
      "metadata": {
        "colab": {
          "base_uri": "https://localhost:8080/",
          "height": 17
        },
        "id": "JTPiwyInPfnv",
        "outputId": "20521bb8-c8e3-4f97-cb59-f2499779019d"
      },
      "source": [
        "import os\n",
        "import json\n",
        "import numpy as np\n",
        "import pandas as pd\n",
        "from pandas.io.json import json_normalize\n",
        "import matplotlib.pyplot as plt\n",
        "import seaborn as sns\n",
        "color = sns.color_palette()\n",
        "\n",
        "%matplotlib inline\n",
        "\n",
        "import datetime as dt\n",
        "from plotly import tools\n",
        "import plotly.offline as py\n",
        "py.init_notebook_mode(connected=True)\n",
        "import plotly.graph_objs as go\n",
        "\n",
        "from sklearn import model_selection, preprocessing, metrics\n",
        "import lightgbm as lgb\n",
        "\n",
        "pd.options.mode.chained_assignment =None\n",
        "pd.options.display.max_columns = 999"
      ],
      "execution_count": null,
      "outputs": [
        {
          "output_type": "display_data",
          "data": {
            "text/html": [
              "        <script type=\"text/javascript\">\n",
              "        window.PlotlyConfig = {MathJaxConfig: 'local'};\n",
              "        if (window.MathJax) {MathJax.Hub.Config({SVG: {font: \"STIX-Web\"}});}\n",
              "        if (typeof require !== 'undefined') {\n",
              "        require.undef(\"plotly\");\n",
              "        requirejs.config({\n",
              "            paths: {\n",
              "                'plotly': ['https://cdn.plot.ly/plotly-latest.min']\n",
              "            }\n",
              "        });\n",
              "        require(['plotly'], function(Plotly) {\n",
              "            window._Plotly = Plotly;\n",
              "        });\n",
              "        }\n",
              "        </script>\n",
              "        "
            ]
          },
          "metadata": {}
        }
      ]
    },
    {
      "cell_type": "markdown",
      "metadata": {
        "id": "oTcuiUbGQQgF"
      },
      "source": [
        "## Dataset Exploration\n",
        "일단 어떤 파일들이 있는지 알아봅시다~"
      ]
    },
    {
      "cell_type": "markdown",
      "metadata": {
        "id": "bIr6KbO3QeuH"
      },
      "source": [
        "- train.csv - 트레이닝 세트\n",
        "- test.csv - 테스트 세트\n",
        "- sample_submission.csv - 옳은 포맷의 샘플 제출 파일(우리가 예측해야할 cards_ids가 포함 되어있다.)\n",
        "- historical_transactions.csv - 3달치의 card_ids 별 거래 기록\n",
        "- merchants.csv - 상인들의 merchant_ids 별 모든 추가적인 정보\n",
        "- new_merchant_transactions.csv - 모든 card_ids의 historical_transactions에서 방문하지 않은 모든 구입들의 두달치 데이터\n"
      ]
    },
    {
      "cell_type": "code",
      "metadata": {
        "colab": {
          "base_uri": "https://localhost:8080/"
        },
        "id": "rgkGgApIRV7z",
        "outputId": "55f91a98-51f4-4078-cace-d8f6abc7d6f3"
      },
      "source": [
        "train_df = pd.read_csv(\"/content/drive/MyDrive/KDT/모델링 프로젝트/data/train.csv\", parse_dates=[\"first_active_month\"])\n",
        "test_df = pd.read_csv(\"/content/drive/MyDrive/KDT/모델링 프로젝트/data/test.csv\", parse_dates=[\"first_active_month\"])\n",
        "print(\"Number of rows and columns in train set : \", train_df.shape)\n",
        "print(\"Number of rows and columns in test set : \", test_df.shape)"
      ],
      "execution_count": null,
      "outputs": [
        {
          "output_type": "stream",
          "name": "stdout",
          "text": [
            "Number of rows and columns in train set :  (201917, 6)\n",
            "Number of rows and columns in test set :  (123623, 5)\n"
          ]
        }
      ]
    },
    {
      "cell_type": "code",
      "metadata": {
        "colab": {
          "base_uri": "https://localhost:8080/",
          "height": 205
        },
        "id": "zeJNmwkATgIY",
        "outputId": "f0b690b8-4a83-4698-95b3-86d55b09ca71"
      },
      "source": [
        "train_df.head()"
      ],
      "execution_count": null,
      "outputs": [
        {
          "output_type": "execute_result",
          "data": {
            "text/html": [
              "<div>\n",
              "<style scoped>\n",
              "    .dataframe tbody tr th:only-of-type {\n",
              "        vertical-align: middle;\n",
              "    }\n",
              "\n",
              "    .dataframe tbody tr th {\n",
              "        vertical-align: top;\n",
              "    }\n",
              "\n",
              "    .dataframe thead th {\n",
              "        text-align: right;\n",
              "    }\n",
              "</style>\n",
              "<table border=\"1\" class=\"dataframe\">\n",
              "  <thead>\n",
              "    <tr style=\"text-align: right;\">\n",
              "      <th></th>\n",
              "      <th>first_active_month</th>\n",
              "      <th>card_id</th>\n",
              "      <th>feature_1</th>\n",
              "      <th>feature_2</th>\n",
              "      <th>feature_3</th>\n",
              "      <th>target</th>\n",
              "    </tr>\n",
              "  </thead>\n",
              "  <tbody>\n",
              "    <tr>\n",
              "      <th>0</th>\n",
              "      <td>2017-06-01</td>\n",
              "      <td>C_ID_92a2005557</td>\n",
              "      <td>5</td>\n",
              "      <td>2</td>\n",
              "      <td>1</td>\n",
              "      <td>-0.820283</td>\n",
              "    </tr>\n",
              "    <tr>\n",
              "      <th>1</th>\n",
              "      <td>2017-01-01</td>\n",
              "      <td>C_ID_3d0044924f</td>\n",
              "      <td>4</td>\n",
              "      <td>1</td>\n",
              "      <td>0</td>\n",
              "      <td>0.392913</td>\n",
              "    </tr>\n",
              "    <tr>\n",
              "      <th>2</th>\n",
              "      <td>2016-08-01</td>\n",
              "      <td>C_ID_d639edf6cd</td>\n",
              "      <td>2</td>\n",
              "      <td>2</td>\n",
              "      <td>0</td>\n",
              "      <td>0.688056</td>\n",
              "    </tr>\n",
              "    <tr>\n",
              "      <th>3</th>\n",
              "      <td>2017-09-01</td>\n",
              "      <td>C_ID_186d6a6901</td>\n",
              "      <td>4</td>\n",
              "      <td>3</td>\n",
              "      <td>0</td>\n",
              "      <td>0.142495</td>\n",
              "    </tr>\n",
              "    <tr>\n",
              "      <th>4</th>\n",
              "      <td>2017-11-01</td>\n",
              "      <td>C_ID_cdbd2c0db2</td>\n",
              "      <td>1</td>\n",
              "      <td>3</td>\n",
              "      <td>0</td>\n",
              "      <td>-0.159749</td>\n",
              "    </tr>\n",
              "  </tbody>\n",
              "</table>\n",
              "</div>"
            ],
            "text/plain": [
              "  first_active_month          card_id  feature_1  feature_2  feature_3  \\\n",
              "0         2017-06-01  C_ID_92a2005557          5          2          1   \n",
              "1         2017-01-01  C_ID_3d0044924f          4          1          0   \n",
              "2         2016-08-01  C_ID_d639edf6cd          2          2          0   \n",
              "3         2017-09-01  C_ID_186d6a6901          4          3          0   \n",
              "4         2017-11-01  C_ID_cdbd2c0db2          1          3          0   \n",
              "\n",
              "     target  \n",
              "0 -0.820283  \n",
              "1  0.392913  \n",
              "2  0.688056  \n",
              "3  0.142495  \n",
              "4 -0.159749  "
            ]
          },
          "metadata": {},
          "execution_count": 3
        }
      ]
    },
    {
      "cell_type": "markdown",
      "metadata": {
        "id": "wZFs9CbCTkQn"
      },
      "source": [
        "Target Column Exploration"
      ]
    },
    {
      "cell_type": "code",
      "metadata": {
        "colab": {
          "base_uri": "https://localhost:8080/",
          "height": 392
        },
        "id": "6X4oXMZ8Tp5P",
        "outputId": "961e5ac8-4fcf-4c02-95de-32223337bdd0"
      },
      "source": [
        "plt.figure(figsize=(8,6))\n",
        "plt.scatter(range(train_df.shape[0]), np.sort(train_df[\"target\"].values))\n",
        "plt.xlabel('index', fontsize=12)\n",
        "plt.ylabel(\"Loyalty Score\", fontsize=12)\n",
        "plt.show()"
      ],
      "execution_count": null,
      "outputs": [
        {
          "output_type": "display_data",
          "data": {
            "image/png": "[encoded data removed]",
            "text/plain": [
              "<Figure size 576x432 with 1 Axes>"
            ]
          },
          "metadata": {
            "needs_background": "light"
          }
        }
      ]
    },
    {
      "cell_type": "code",
      "metadata": {
        "colab": {
          "base_uri": "https://localhost:8080/",
          "height": 420
        },
        "id": "pwvX1TFDUJ5Q",
        "outputId": "46a351fa-0d58-43b1-aed9-d95191abf980"
      },
      "source": [
        "plt.figure(figsize=(12,16))\n",
        "sns.displot(train_df[\"target\"].values, bins=50, kde=False, color=\"red\")\n",
        "plt.title(\"Histogram of Loyalty score\")\n",
        "plt.xlabel(\"Loyalty score\", fontsize=12)\n",
        "plt.show()"
      ],
      "execution_count": null,
      "outputs": [
        {
          "output_type": "display_data",
          "data": {
            "text/plain": [
              "<Figure size 864x1152 with 0 Axes>"
            ]
          },
          "metadata": {}
        },
        {
          "output_type": "display_data",
          "data": {
            "image/png": "[encoded data removed]",
            "text/plain": [
              "<Figure size 360x360 with 1 Axes>"
            ]
          },
          "metadata": {
            "needs_background": "light"
          }
        }
      ]
    },
    {
      "cell_type": "markdown",
      "metadata": {
        "id": "hkeyCKr1VhEo"
      },
      "source": [
        "위의 그래프를 보면 -30 밑의 Loyalty score에 다른 데이터에 비해서 거리가 있는 데이터가 보입니다. 숫자를 세어볼까용?"
      ]
    },
    {
      "cell_type": "code",
      "metadata": {
        "colab": {
          "base_uri": "https://localhost:8080/"
        },
        "id": "Hymitr56WHuU",
        "outputId": "f7dcbb51-bbec-458f-b853-77feb55c137b"
      },
      "source": [
        "(train_df[\"target\"]<-30).sum()"
      ],
      "execution_count": null,
      "outputs": [
        {
          "output_type": "execute_result",
          "data": {
            "text/plain": [
              "2207"
            ]
          },
          "metadata": {},
          "execution_count": 6
        }
      ]
    },
    {
      "cell_type": "markdown",
      "metadata": {
        "id": "h6FCiy9EWQu1"
      },
      "source": [
        "2207개의 행이 나머지와 다른 성질을 보입니다. 그러므로 RMSE 평가시에 이 행들이 중요한 역할을 할 겁니다."
      ]
    },
    {
      "cell_type": "markdown",
      "metadata": {
        "id": "lbyYVigSWg89"
      },
      "source": [
        "## First Active Month\n",
        "테스트 세트와 트레인 세트의 카드별 First active month 데이터에서 분산 차이가 있는지 확인해봅시다. "
      ]
    },
    {
      "cell_type": "code",
      "metadata": {
        "colab": {
          "base_uri": "https://localhost:8080/",
          "height": 959
        },
        "id": "pqBe9w-MXOYq",
        "outputId": "d192e4b2-e8d3-41dd-f2d6-1dd32203386a"
      },
      "source": [
        "cnt_srs = train_df[\"first_active_month\"].dt.date.value_counts()\n",
        "cnt_srs = cnt_srs.sort_index()\n",
        "plt.figure(figsize=(14,6))\n",
        "sns.barplot(cnt_srs.index, cnt_srs.values, alpha=0.8, color='green')\n",
        "plt.xticks(rotation='vertical')\n",
        "plt.xlabel('First active month', fontsize=12)\n",
        "plt.ylabel('Number of cards', fontsize=12)\n",
        "plt.title('First active month count in train set')\n",
        "plt.show()\n",
        "\n",
        "cnt_srs = test_df['first_active_month'].dt.date.value_counts()\n",
        "cnt_srs = cnt_srs.sort_index()\n",
        "plt.figure(figsize=(14,6))\n",
        "sns.barplot(cnt_srs.index, cnt_srs.values, alpha=0.8, color='green')\n",
        "plt.xticks(rotation='vertical')\n",
        "plt.xlabel('First active month', fontsize=12)\n",
        "plt.ylabel('Number of cards', fontsize=12)\n",
        "plt.title('First active month count in test set')\n",
        "plt.show()"
      ],
      "execution_count": null,
      "outputs": [
        {
          "output_type": "stream",
          "name": "stderr",
          "text": [
            "/usr/local/lib/python3.7/dist-packages/seaborn/_decorators.py:43: FutureWarning:\n",
            "\n",
            "Pass the following variables as keyword args: x, y. From version 0.12, the only valid positional argument will be `data`, and passing other arguments without an explicit keyword will result in an error or misinterpretation.\n",
            "\n"
          ]
        },
        {
          "output_type": "display_data",
          "data": {
            "image/png": "[encoded data removed]",
            "text/plain": [
              "<Figure size 1008x432 with 1 Axes>"
            ]
          },
          "metadata": {
            "needs_background": "light"
          }
        },
        {
          "output_type": "stream",
          "name": "stderr",
          "text": [
            "/usr/local/lib/python3.7/dist-packages/seaborn/_decorators.py:43: FutureWarning:\n",
            "\n",
            "Pass the following variables as keyword args: x, y. From version 0.12, the only valid positional argument will be `data`, and passing other arguments without an explicit keyword will result in an error or misinterpretation.\n",
            "\n"
          ]
        },
        {
          "output_type": "display_data",
          "data": {
            "image/png": "[encoded data removed]",
            "text/plain": [
              "<Figure size 1008x432 with 1 Axes>"
            ]
          },
          "metadata": {
            "needs_background": "light"
          }
        }
      ]
    },
    {
      "cell_type": "markdown",
      "metadata": {
        "id": "Fh70IPts5dGl"
      },
      "source": [
        "트레인과 테스트 셋의 그래프의 분포가 상당히 비슷한 걸 알 수 있습니다! 그러므로 시간에 기반한 데이터 분할은 필요 없어보입니다."
      ]
    },
    {
      "cell_type": "markdown",
      "metadata": {
        "id": "uj5bNMWfDmlA"
      },
      "source": [
        "## Feature 1,2 & 3\n"
      ]
    },
    {
      "cell_type": "markdown",
      "metadata": {
        "id": "FMRlIW5eDsOA"
      },
      "source": [
        "트레인 데이터 셋에 있는 다른 변수들이 loyalty score를 찾을 때 좋은 예측력을 갖고 있는지 봅시다"
      ]
    },
    {
      "cell_type": "code",
      "metadata": {
        "colab": {
          "base_uri": "https://localhost:8080/",
          "height": 851
        },
        "id": "telfve6OD8xx",
        "outputId": "5f5d3473-40b8-48bf-c639-7307b335c025"
      },
      "source": [
        "#feature 1\n",
        "plt.figure(figsize=(8,4))\n",
        "sns.violinplot(x=\"feature_1\", y=\"target\", data=train_df)\n",
        "plt.xticks(rotation='vertical')\n",
        "plt.xlabel('Feature 1', fontsize=12)\n",
        "plt.ylabel('Loyalty score', fontsize=12)\n",
        "plt.title(\"Feautre 1 distribution\")\n",
        "plt.show()\n",
        "\n",
        "#feature 2\n",
        "plt.figure(figsize=(8,4))\n",
        "sns.violinplot(x=\"feature_2\", y=\"target\", data=train_df)\n",
        "plt.xticks(rotation='vertical')\n",
        "plt.xlabel('Feature 2', fontsize=12)\n",
        "plt.ylabel('Loyalty score', fontsize=12)\n",
        "plt.title(\"Feautre 2 distribution\")\n",
        "plt.show()\n",
        "\n",
        "#feature 3\n",
        "plt.figure(figsize=(8,4))\n",
        "sns.violinplot(x=\"feature_3\", y=\"target\", data=train_df)\n",
        "plt.xticks(rotation='vertical')\n",
        "plt.xlabel('Feature 3', fontsize=12)\n",
        "plt.ylabel('Loyalty score', fontsize=12)\n",
        "plt.title(\"Feautre 3 distribution\")\n",
        "plt.show()"
      ],
      "execution_count": null,
      "outputs": [
        {
          "output_type": "display_data",
          "data": {
            "image/png": "[encoded data removed]",
            "text/plain": [
              "<Figure size 576x288 with 1 Axes>"
            ]
          },
          "metadata": {
            "needs_background": "light"
          }
        },
        {
          "output_type": "display_data",
          "data": {
            "image/png": "[encoded data removed]",
            "text/plain": [
              "<Figure size 576x288 with 1 Axes>"
            ]
          },
          "metadata": {
            "needs_background": "light"
          }
        },
        {
          "output_type": "display_data",
          "data": {
            "image/png": "[encoded data removed]",
            "text/plain": [
              "<Figure size 576x288 with 1 Axes>"
            ]
          },
          "metadata": {
            "needs_background": "light"
          }
        }
      ]
    },
    {
      "cell_type": "markdown",
      "metadata": {
        "id": "S1-w-zW0Evic"
      },
      "source": [
        "언뜻 보기에 카테고리별 분산이 다 비슷해 보입니다. 아마도 모델들로 무언가 알아낼 수 있을 것 같습니다.\n"
      ]
    },
    {
      "cell_type": "markdown",
      "metadata": {
        "id": "C25XbQemFEYh"
      },
      "source": [
        "## Historical Transactions\n",
        "Historical transactions 데이터를 봅시다."
      ]
    },
    {
      "cell_type": "code",
      "metadata": {
        "colab": {
          "base_uri": "https://localhost:8080/",
          "height": 205
        },
        "id": "HWrLQChJFOZ4",
        "outputId": "3f9f1096-6aad-4c7c-deec-fe305c33c813"
      },
      "source": [
        "hist_df = pd.read_csv(\"/content/drive/MyDrive/KDT/모델링 프로젝트/data/historical_transactions.csv\")\n",
        "hist_df.head()"
      ],
      "execution_count": null,
      "outputs": [
        {
          "output_type": "execute_result",
          "data": {
            "text/html": [
              "<div>\n",
              "<style scoped>\n",
              "    .dataframe tbody tr th:only-of-type {\n",
              "        vertical-align: middle;\n",
              "    }\n",
              "\n",
              "    .dataframe tbody tr th {\n",
              "        vertical-align: top;\n",
              "    }\n",
              "\n",
              "    .dataframe thead th {\n",
              "        text-align: right;\n",
              "    }\n",
              "</style>\n",
              "<table border=\"1\" class=\"dataframe\">\n",
              "  <thead>\n",
              "    <tr style=\"text-align: right;\">\n",
              "      <th></th>\n",
              "      <th>authorized_flag</th>\n",
              "      <th>card_id</th>\n",
              "      <th>city_id</th>\n",
              "      <th>category_1</th>\n",
              "      <th>installments</th>\n",
              "      <th>category_3</th>\n",
              "      <th>merchant_category_id</th>\n",
              "      <th>merchant_id</th>\n",
              "      <th>month_lag</th>\n",
              "      <th>purchase_amount</th>\n",
              "      <th>purchase_date</th>\n",
              "      <th>category_2</th>\n",
              "      <th>state_id</th>\n",
              "      <th>subsector_id</th>\n",
              "    </tr>\n",
              "  </thead>\n",
              "  <tbody>\n",
              "    <tr>\n",
              "      <th>0</th>\n",
              "      <td>Y</td>\n",
              "      <td>C_ID_4e6213e9bc</td>\n",
              "      <td>88</td>\n",
              "      <td>N</td>\n",
              "      <td>0</td>\n",
              "      <td>A</td>\n",
              "      <td>80</td>\n",
              "      <td>M_ID_e020e9b302</td>\n",
              "      <td>-8</td>\n",
              "      <td>-0.703331</td>\n",
              "      <td>2017-06-25 15:33:07</td>\n",
              "      <td>1.0</td>\n",
              "      <td>16</td>\n",
              "      <td>37</td>\n",
              "    </tr>\n",
              "    <tr>\n",
              "      <th>1</th>\n",
              "      <td>Y</td>\n",
              "      <td>C_ID_4e6213e9bc</td>\n",
              "      <td>88</td>\n",
              "      <td>N</td>\n",
              "      <td>0</td>\n",
              "      <td>A</td>\n",
              "      <td>367</td>\n",
              "      <td>M_ID_86ec983688</td>\n",
              "      <td>-7</td>\n",
              "      <td>-0.733128</td>\n",
              "      <td>2017-07-15 12:10:45</td>\n",
              "      <td>1.0</td>\n",
              "      <td>16</td>\n",
              "      <td>16</td>\n",
              "    </tr>\n",
              "    <tr>\n",
              "      <th>2</th>\n",
              "      <td>Y</td>\n",
              "      <td>C_ID_4e6213e9bc</td>\n",
              "      <td>88</td>\n",
              "      <td>N</td>\n",
              "      <td>0</td>\n",
              "      <td>A</td>\n",
              "      <td>80</td>\n",
              "      <td>M_ID_979ed661fc</td>\n",
              "      <td>-6</td>\n",
              "      <td>-0.720386</td>\n",
              "      <td>2017-08-09 22:04:29</td>\n",
              "      <td>1.0</td>\n",
              "      <td>16</td>\n",
              "      <td>37</td>\n",
              "    </tr>\n",
              "    <tr>\n",
              "      <th>3</th>\n",
              "      <td>Y</td>\n",
              "      <td>C_ID_4e6213e9bc</td>\n",
              "      <td>88</td>\n",
              "      <td>N</td>\n",
              "      <td>0</td>\n",
              "      <td>A</td>\n",
              "      <td>560</td>\n",
              "      <td>M_ID_e6d5ae8ea6</td>\n",
              "      <td>-5</td>\n",
              "      <td>-0.735352</td>\n",
              "      <td>2017-09-02 10:06:26</td>\n",
              "      <td>1.0</td>\n",
              "      <td>16</td>\n",
              "      <td>34</td>\n",
              "    </tr>\n",
              "    <tr>\n",
              "      <th>4</th>\n",
              "      <td>Y</td>\n",
              "      <td>C_ID_4e6213e9bc</td>\n",
              "      <td>88</td>\n",
              "      <td>N</td>\n",
              "      <td>0</td>\n",
              "      <td>A</td>\n",
              "      <td>80</td>\n",
              "      <td>M_ID_e020e9b302</td>\n",
              "      <td>-11</td>\n",
              "      <td>-0.722865</td>\n",
              "      <td>2017-03-10 01:14:19</td>\n",
              "      <td>1.0</td>\n",
              "      <td>16</td>\n",
              "      <td>37</td>\n",
              "    </tr>\n",
              "  </tbody>\n",
              "</table>\n",
              "</div>"
            ],
            "text/plain": [
              "  authorized_flag          card_id  city_id category_1  installments  \\\n",
              "0               Y  C_ID_4e6213e9bc       88          N             0   \n",
              "1               Y  C_ID_4e6213e9bc       88          N             0   \n",
              "2               Y  C_ID_4e6213e9bc       88          N             0   \n",
              "3               Y  C_ID_4e6213e9bc       88          N             0   \n",
              "4               Y  C_ID_4e6213e9bc       88          N             0   \n",
              "\n",
              "  category_3  merchant_category_id      merchant_id  month_lag  \\\n",
              "0          A                    80  M_ID_e020e9b302         -8   \n",
              "1          A                   367  M_ID_86ec983688         -7   \n",
              "2          A                    80  M_ID_979ed661fc         -6   \n",
              "3          A                   560  M_ID_e6d5ae8ea6         -5   \n",
              "4          A                    80  M_ID_e020e9b302        -11   \n",
              "\n",
              "   purchase_amount        purchase_date  category_2  state_id  subsector_id  \n",
              "0        -0.703331  2017-06-25 15:33:07         1.0        16            37  \n",
              "1        -0.733128  2017-07-15 12:10:45         1.0        16            16  \n",
              "2        -0.720386  2017-08-09 22:04:29         1.0        16            37  \n",
              "3        -0.735352  2017-09-02 10:06:26         1.0        16            34  \n",
              "4        -0.722865  2017-03-10 01:14:19         1.0        16            37  "
            ]
          },
          "metadata": {},
          "execution_count": 9
        }
      ]
    },
    {
      "cell_type": "markdown",
      "metadata": {
        "id": "kk-Ci9uEFj6p"
      },
      "source": [
        "- card_id - 카드 식별\n",
        "- month_lag - 참고 날짜에서 월 지연 \n",
        "- purchase_date - 구입 날짜\n",
        "- authorized_flag - 승인 여부\n",
        "- category_3 - 모름\n",
        "- installments - 할부 개월 수\n",
        "- category_1 - 모름\n",
        "- merchant_category_id - 판매자 카테고리 id\n",
        "- subsector_id - 판매자 카테고리 그룹 id\n",
        "- merchant_id - 판맨자 id\n",
        "- purchase_amount - normalize 된 판매량\n",
        "- city_id - 도시 식별\n",
        "- state_id - 주 식별\n",
        "- category_2 - 모름"
      ]
    },
    {
      "cell_type": "markdown",
      "metadata": {
        "id": "E1uhmiV7Iq1u"
      },
      "source": [
        "historical transactions의 feature와 트레인 데이터셋, 테스트데이터셋을 합쳐봅시다."
      ]
    },
    {
      "cell_type": "markdown",
      "metadata": {
        "id": "O72TVDGMI19U"
      },
      "source": [
        "### Number of Historical Transactions for the card"
      ]
    },
    {
      "cell_type": "code",
      "metadata": {
        "id": "Nr9rLfuEI8dH"
      },
      "source": [
        "gdf = hist_df.groupby(\"card_id\")\n",
        "gdf = gdf[\"purchase_amount\"].size().reset_index()\n",
        "gdf.columns = [\"card_id\", \"num_hist_transactions\"]\n",
        "train_df = pd.merge(train_df, gdf, on='card_id', how='left')\n",
        "test_df = pd.merge(test_df, gdf, on=\"card_id\", how=\"left\")"
      ],
      "execution_count": null,
      "outputs": []
    },
    {
      "cell_type": "code",
      "metadata": {
        "colab": {
          "base_uri": "https://localhost:8080/",
          "height": 570
        },
        "id": "VxMRMEJ4MWRV",
        "outputId": "7e309a5a-a04d-4714-bfff-1fd988768e5a"
      },
      "source": [
        "bins = [0, 10, 20, 30, 40, 50, 75, 100, 200, 500, 10000]\n",
        "train_df['binned_num_hist_transactions'] = pd.cut(train_df['num_hist_transactions'], bins)\n",
        "cnt_srs = train_df.groupby(\"binned_num_hist_transactions\")[\"target\"].mean()\n",
        "\n",
        "plt.figure(figsize=(12,8))\n",
        "sns.boxplot(x=\"binned_num_hist_transactions\", y= \"target\", data=train_df, showfliers = False)\n",
        "plt.xticks(rotation='vertical')\n",
        "plt.xlabel(\"binned_num_hist_transactions\", fontsize=12)\n",
        "plt.ylabel(\"loyalty score\", fontsize=12)\n",
        "plt.title(\"binned_num_hist_transactions distribution\")\n",
        "plt.show()"
      ],
      "execution_count": null,
      "outputs": [
        {
          "output_type": "display_data",
          "data": {
            "image/png": "[encoded data removed]",
            "text/plain": [
              "<Figure size 864x576 with 1 Axes>"
            ]
          },
          "metadata": {
            "needs_background": "light"
          }
        }
      ]
    },
    {
      "cell_type": "markdown",
      "metadata": {
        "id": "1THzFIajWWTc"
      },
      "source": [
        "## Value of HIstorical Transactions\n",
        "Now let us check the value of the historical transactions for the cards and check the loyalty score distribution based on that."
      ]
    },
    {
      "cell_type": "code",
      "metadata": {
        "id": "eWoNlICIWgcD"
      },
      "source": [
        "gdf = hist_df.groupby(\"card_id\")\n",
        "gdf = gdf[\"purchase_amount\"].agg(['sum', 'mean', 'std', 'min', 'max']).reset_index()\n",
        "gdf.columns =[\"card_id\", \"sum_hist_trans\", \"mean_hist_trans\", \"std_hist_trans\", \"min_hist_trans\", \"max_hist_trans\"]\n",
        "train_df = pd.merge(train_df, gdf, on=\"card_id\", how=\"left\")\n",
        "test_df = pd.merge(test_df, gdf, on=\"card_id\", how=\"left\")"
      ],
      "execution_count": null,
      "outputs": []
    },
    {
      "cell_type": "code",
      "metadata": {
        "colab": {
          "base_uri": "https://localhost:8080/",
          "height": 225
        },
        "id": "ZIJcLBNs5g0G",
        "outputId": "8b6f54ba-9307-47f6-9dc3-054b1ad0996b"
      },
      "source": [
        "train_df.head()"
      ],
      "execution_count": null,
      "outputs": [
        {
          "output_type": "execute_result",
          "data": {
            "text/html": [
              "<div>\n",
              "<style scoped>\n",
              "    .dataframe tbody tr th:only-of-type {\n",
              "        vertical-align: middle;\n",
              "    }\n",
              "\n",
              "    .dataframe tbody tr th {\n",
              "        vertical-align: top;\n",
              "    }\n",
              "\n",
              "    .dataframe thead th {\n",
              "        text-align: right;\n",
              "    }\n",
              "</style>\n",
              "<table border=\"1\" class=\"dataframe\">\n",
              "  <thead>\n",
              "    <tr style=\"text-align: right;\">\n",
              "      <th></th>\n",
              "      <th>first_active_month</th>\n",
              "      <th>card_id</th>\n",
              "      <th>feature_1</th>\n",
              "      <th>feature_2</th>\n",
              "      <th>feature_3</th>\n",
              "      <th>target</th>\n",
              "      <th>num_hist_transactions</th>\n",
              "      <th>binned_num_hist_transactions</th>\n",
              "      <th>sum_hist_trans</th>\n",
              "      <th>mean_hist_trans</th>\n",
              "      <th>std_hist_trans</th>\n",
              "      <th>min_hist_trans</th>\n",
              "      <th>max_hist_trans</th>\n",
              "    </tr>\n",
              "  </thead>\n",
              "  <tbody>\n",
              "    <tr>\n",
              "      <th>0</th>\n",
              "      <td>2017-06-01</td>\n",
              "      <td>C_ID_92a2005557</td>\n",
              "      <td>5</td>\n",
              "      <td>2</td>\n",
              "      <td>1</td>\n",
              "      <td>-0.820283</td>\n",
              "      <td>260</td>\n",
              "      <td>(200, 500]</td>\n",
              "      <td>-165.968739</td>\n",
              "      <td>-0.638341</td>\n",
              "      <td>0.212139</td>\n",
              "      <td>-0.739395</td>\n",
              "      <td>2.258395</td>\n",
              "    </tr>\n",
              "    <tr>\n",
              "      <th>1</th>\n",
              "      <td>2017-01-01</td>\n",
              "      <td>C_ID_3d0044924f</td>\n",
              "      <td>4</td>\n",
              "      <td>1</td>\n",
              "      <td>0</td>\n",
              "      <td>0.392913</td>\n",
              "      <td>350</td>\n",
              "      <td>(200, 500]</td>\n",
              "      <td>-210.006336</td>\n",
              "      <td>-0.600018</td>\n",
              "      <td>0.384967</td>\n",
              "      <td>-0.742400</td>\n",
              "      <td>4.630299</td>\n",
              "    </tr>\n",
              "    <tr>\n",
              "      <th>2</th>\n",
              "      <td>2016-08-01</td>\n",
              "      <td>C_ID_d639edf6cd</td>\n",
              "      <td>2</td>\n",
              "      <td>2</td>\n",
              "      <td>0</td>\n",
              "      <td>0.688056</td>\n",
              "      <td>43</td>\n",
              "      <td>(40, 50]</td>\n",
              "      <td>-29.167391</td>\n",
              "      <td>-0.678311</td>\n",
              "      <td>0.087380</td>\n",
              "      <td>-0.730138</td>\n",
              "      <td>-0.145847</td>\n",
              "    </tr>\n",
              "    <tr>\n",
              "      <th>3</th>\n",
              "      <td>2017-09-01</td>\n",
              "      <td>C_ID_186d6a6901</td>\n",
              "      <td>4</td>\n",
              "      <td>3</td>\n",
              "      <td>0</td>\n",
              "      <td>0.142495</td>\n",
              "      <td>77</td>\n",
              "      <td>(75, 100]</td>\n",
              "      <td>-49.491364</td>\n",
              "      <td>-0.642745</td>\n",
              "      <td>0.261624</td>\n",
              "      <td>-0.740897</td>\n",
              "      <td>1.445596</td>\n",
              "    </tr>\n",
              "    <tr>\n",
              "      <th>4</th>\n",
              "      <td>2017-11-01</td>\n",
              "      <td>C_ID_cdbd2c0db2</td>\n",
              "      <td>1</td>\n",
              "      <td>3</td>\n",
              "      <td>0</td>\n",
              "      <td>-0.159749</td>\n",
              "      <td>133</td>\n",
              "      <td>(100, 200]</td>\n",
              "      <td>-48.687656</td>\n",
              "      <td>-0.366073</td>\n",
              "      <td>1.352094</td>\n",
              "      <td>-0.746156</td>\n",
              "      <td>7.193041</td>\n",
              "    </tr>\n",
              "  </tbody>\n",
              "</table>\n",
              "</div>"
            ],
            "text/plain": [
              "  first_active_month          card_id  feature_1  feature_2  feature_3  \\\n",
              "0         2017-06-01  C_ID_92a2005557          5          2          1   \n",
              "1         2017-01-01  C_ID_3d0044924f          4          1          0   \n",
              "2         2016-08-01  C_ID_d639edf6cd          2          2          0   \n",
              "3         2017-09-01  C_ID_186d6a6901          4          3          0   \n",
              "4         2017-11-01  C_ID_cdbd2c0db2          1          3          0   \n",
              "\n",
              "     target  num_hist_transactions binned_num_hist_transactions  \\\n",
              "0 -0.820283                    260                   (200, 500]   \n",
              "1  0.392913                    350                   (200, 500]   \n",
              "2  0.688056                     43                     (40, 50]   \n",
              "3  0.142495                     77                    (75, 100]   \n",
              "4 -0.159749                    133                   (100, 200]   \n",
              "\n",
              "   sum_hist_trans  mean_hist_trans  std_hist_trans  min_hist_trans  \\\n",
              "0     -165.968739        -0.638341        0.212139       -0.739395   \n",
              "1     -210.006336        -0.600018        0.384967       -0.742400   \n",
              "2      -29.167391        -0.678311        0.087380       -0.730138   \n",
              "3      -49.491364        -0.642745        0.261624       -0.740897   \n",
              "4      -48.687656        -0.366073        1.352094       -0.746156   \n",
              "\n",
              "   max_hist_trans  \n",
              "0        2.258395  \n",
              "1        4.630299  \n",
              "2       -0.145847  \n",
              "3        1.445596  \n",
              "4        7.193041  "
            ]
          },
          "metadata": {},
          "execution_count": 14
        }
      ]
    },
    {
      "cell_type": "code",
      "metadata": {
        "colab": {
          "base_uri": "https://localhost:8080/",
          "height": 616
        },
        "id": "EvcIwWai2VrR",
        "outputId": "211660bd-8c0d-49f5-bb11-b00d7c701be8"
      },
      "source": [
        "bins= np.nanpercentile(train_df[\"sum_hist_trans\"], range(0,101,10))\n",
        "train_df[\"binned_sum_hist_trans\"] = pd.cut(train_df[\"sum_hist_trans\"], bins)\n",
        "# cnt_srs = train_df.groupby(\"binned_sum_merch_trans\")[\"target\"].eman()\n",
        "\n",
        "plt.figure(figsize=(12,8))\n",
        "sns.boxplot(x=\"binned_sum_hist_trans\", y=\"target\", data=train_df, showfliers=False)\n",
        "plt.xticks(rotation=\"vertical\")\n",
        "plt.xlabel('binned_sum_hist_trans', fontsize=12)\n",
        "plt.ylabel('Loyalty score', fontsize=12)\n",
        "plt.title(\"Sum of New merchants transaction value (binned) distribution\")\n",
        "plt.show()"
      ],
      "execution_count": null,
      "outputs": [
        {
          "output_type": "display_data",
          "data": {
            "image/png": "[encoded data removed]",
            "text/plain": [
              "<Figure size 864x576 with 1 Axes>"
            ]
          },
          "metadata": {
            "needs_background": "light"
          }
        }
      ]
    },
    {
      "cell_type": "markdown",
      "metadata": {
        "id": "uNoBgAVO3WCE"
      },
      "source": [
        "Loyal score은 new merchant transaction value의 총합이 증가하면 같이 증가하면 같이 증가하는 걸로 보입니다. 마지막 bin만 뺴고"
      ]
    },
    {
      "cell_type": "code",
      "metadata": {
        "colab": {
          "base_uri": "https://localhost:8080/",
          "height": 612
        },
        "id": "EWj3YYmP30F6",
        "outputId": "8589b9e5-0f4a-43c9-a152-0cc37db478e7"
      },
      "source": [
        "bins = np.nanpercentile(train_df[\"mean_hist_trans\"], range(0,101,10))\n",
        "train_df['binned_mean_hist_trans'] = pd.cut(train_df['mean_hist_trans'], bins)\n",
        "#cnt_srs = train_df.groupby(\"binned_sum_hist_trans\")[target_col].mean()\n",
        "\n",
        "plt.figure(figsize=(12,8))\n",
        "sns.boxplot(x=\"binned_mean_hist_trans\", y=\"target\", data=train_df, showfliers=False)\n",
        "plt.xticks(rotation='vertical')\n",
        "plt.xlabel('binned mean of new merchant transactions', fontsize=12)\n",
        "plt.ylabel('Loyalty score', fontsize=12)\n",
        "plt.title(\"Mean of New merchants transaction value (Binned) distribution\")\n",
        "plt.show()"
      ],
      "execution_count": null,
      "outputs": [
        {
          "output_type": "display_data",
          "data": {
            "image/png": "[encoded data removed]",
            "text/plain": [
              "<Figure size 864x576 with 1 Axes>"
            ]
          },
          "metadata": {
            "needs_background": "light"
          }
        }
      ]
    },
    {
      "cell_type": "markdown",
      "metadata": {
        "id": "BRWCV01k41o1"
      },
      "source": [
        "## New Merchant Transactions\n",
        "new merchant transactions 데이터 분석"
      ]
    },
    {
      "cell_type": "code",
      "metadata": {
        "colab": {
          "base_uri": "https://localhost:8080/",
          "height": 615
        },
        "id": "_ZLjupC48RW_",
        "outputId": "2425d7d2-fdc0-452e-92e1-79b93f272045"
      },
      "source": [
        "new_trans_df = pd.read_csv(\"/content/drive/MyDrive/KDT/모델링 프로젝트/data/new_merchant_transactions.csv\")\n",
        "new_trans_df"
      ],
      "execution_count": null,
      "outputs": [
        {
          "output_type": "execute_result",
          "data": {
            "text/html": [
              "<div>\n",
              "<style scoped>\n",
              "    .dataframe tbody tr th:only-of-type {\n",
              "        vertical-align: middle;\n",
              "    }\n",
              "\n",
              "    .dataframe tbody tr th {\n",
              "        vertical-align: top;\n",
              "    }\n",
              "\n",
              "    .dataframe thead th {\n",
              "        text-align: right;\n",
              "    }\n",
              "</style>\n",
              "<table border=\"1\" class=\"dataframe\">\n",
              "  <thead>\n",
              "    <tr style=\"text-align: right;\">\n",
              "      <th></th>\n",
              "      <th>authorized_flag</th>\n",
              "      <th>card_id</th>\n",
              "      <th>city_id</th>\n",
              "      <th>category_1</th>\n",
              "      <th>installments</th>\n",
              "      <th>category_3</th>\n",
              "      <th>merchant_category_id</th>\n",
              "      <th>merchant_id</th>\n",
              "      <th>month_lag</th>\n",
              "      <th>purchase_amount</th>\n",
              "      <th>purchase_date</th>\n",
              "      <th>category_2</th>\n",
              "      <th>state_id</th>\n",
              "      <th>subsector_id</th>\n",
              "    </tr>\n",
              "  </thead>\n",
              "  <tbody>\n",
              "    <tr>\n",
              "      <th>0</th>\n",
              "      <td>Y</td>\n",
              "      <td>C_ID_415bb3a509</td>\n",
              "      <td>107</td>\n",
              "      <td>N</td>\n",
              "      <td>1</td>\n",
              "      <td>B</td>\n",
              "      <td>307</td>\n",
              "      <td>M_ID_b0c793002c</td>\n",
              "      <td>1</td>\n",
              "      <td>-0.557574</td>\n",
              "      <td>2018-03-11 14:57:36</td>\n",
              "      <td>1.0</td>\n",
              "      <td>9</td>\n",
              "      <td>19</td>\n",
              "    </tr>\n",
              "    <tr>\n",
              "      <th>1</th>\n",
              "      <td>Y</td>\n",
              "      <td>C_ID_415bb3a509</td>\n",
              "      <td>140</td>\n",
              "      <td>N</td>\n",
              "      <td>1</td>\n",
              "      <td>B</td>\n",
              "      <td>307</td>\n",
              "      <td>M_ID_88920c89e8</td>\n",
              "      <td>1</td>\n",
              "      <td>-0.569580</td>\n",
              "      <td>2018-03-19 18:53:37</td>\n",
              "      <td>1.0</td>\n",
              "      <td>9</td>\n",
              "      <td>19</td>\n",
              "    </tr>\n",
              "    <tr>\n",
              "      <th>2</th>\n",
              "      <td>Y</td>\n",
              "      <td>C_ID_415bb3a509</td>\n",
              "      <td>330</td>\n",
              "      <td>N</td>\n",
              "      <td>1</td>\n",
              "      <td>B</td>\n",
              "      <td>507</td>\n",
              "      <td>M_ID_ad5237ef6b</td>\n",
              "      <td>2</td>\n",
              "      <td>-0.551037</td>\n",
              "      <td>2018-04-26 14:08:44</td>\n",
              "      <td>1.0</td>\n",
              "      <td>9</td>\n",
              "      <td>14</td>\n",
              "    </tr>\n",
              "    <tr>\n",
              "      <th>3</th>\n",
              "      <td>Y</td>\n",
              "      <td>C_ID_415bb3a509</td>\n",
              "      <td>-1</td>\n",
              "      <td>Y</td>\n",
              "      <td>1</td>\n",
              "      <td>B</td>\n",
              "      <td>661</td>\n",
              "      <td>M_ID_9e84cda3b1</td>\n",
              "      <td>1</td>\n",
              "      <td>-0.671925</td>\n",
              "      <td>2018-03-07 09:43:21</td>\n",
              "      <td>NaN</td>\n",
              "      <td>-1</td>\n",
              "      <td>8</td>\n",
              "    </tr>\n",
              "    <tr>\n",
              "      <th>4</th>\n",
              "      <td>Y</td>\n",
              "      <td>C_ID_ef55cf8d4b</td>\n",
              "      <td>-1</td>\n",
              "      <td>Y</td>\n",
              "      <td>1</td>\n",
              "      <td>B</td>\n",
              "      <td>166</td>\n",
              "      <td>M_ID_3c86fa3831</td>\n",
              "      <td>1</td>\n",
              "      <td>-0.659904</td>\n",
              "      <td>2018-03-22 21:07:53</td>\n",
              "      <td>NaN</td>\n",
              "      <td>-1</td>\n",
              "      <td>29</td>\n",
              "    </tr>\n",
              "    <tr>\n",
              "      <th>...</th>\n",
              "      <td>...</td>\n",
              "      <td>...</td>\n",
              "      <td>...</td>\n",
              "      <td>...</td>\n",
              "      <td>...</td>\n",
              "      <td>...</td>\n",
              "      <td>...</td>\n",
              "      <td>...</td>\n",
              "      <td>...</td>\n",
              "      <td>...</td>\n",
              "      <td>...</td>\n",
              "      <td>...</td>\n",
              "      <td>...</td>\n",
              "      <td>...</td>\n",
              "    </tr>\n",
              "    <tr>\n",
              "      <th>1963026</th>\n",
              "      <td>Y</td>\n",
              "      <td>C_ID_1320dee851</td>\n",
              "      <td>142</td>\n",
              "      <td>N</td>\n",
              "      <td>0</td>\n",
              "      <td>A</td>\n",
              "      <td>309</td>\n",
              "      <td>M_ID_7754b67f3b</td>\n",
              "      <td>2</td>\n",
              "      <td>-0.701828</td>\n",
              "      <td>2018-04-06 14:36:52</td>\n",
              "      <td>3.0</td>\n",
              "      <td>19</td>\n",
              "      <td>21</td>\n",
              "    </tr>\n",
              "    <tr>\n",
              "      <th>1963027</th>\n",
              "      <td>Y</td>\n",
              "      <td>C_ID_f112aa3381</td>\n",
              "      <td>158</td>\n",
              "      <td>N</td>\n",
              "      <td>0</td>\n",
              "      <td>A</td>\n",
              "      <td>560</td>\n",
              "      <td>M_ID_da063195b7</td>\n",
              "      <td>2</td>\n",
              "      <td>-0.694390</td>\n",
              "      <td>2018-03-07 13:19:18</td>\n",
              "      <td>1.0</td>\n",
              "      <td>15</td>\n",
              "      <td>34</td>\n",
              "    </tr>\n",
              "    <tr>\n",
              "      <th>1963028</th>\n",
              "      <td>Y</td>\n",
              "      <td>C_ID_bd97b86450</td>\n",
              "      <td>69</td>\n",
              "      <td>N</td>\n",
              "      <td>1</td>\n",
              "      <td>B</td>\n",
              "      <td>278</td>\n",
              "      <td>M_ID_9a9ccb6544</td>\n",
              "      <td>1</td>\n",
              "      <td>-0.621031</td>\n",
              "      <td>2018-03-05 12:04:56</td>\n",
              "      <td>1.0</td>\n",
              "      <td>9</td>\n",
              "      <td>37</td>\n",
              "    </tr>\n",
              "    <tr>\n",
              "      <th>1963029</th>\n",
              "      <td>Y</td>\n",
              "      <td>C_ID_c0513fd84f</td>\n",
              "      <td>130</td>\n",
              "      <td>N</td>\n",
              "      <td>0</td>\n",
              "      <td>A</td>\n",
              "      <td>367</td>\n",
              "      <td>M_ID_40c28d596f</td>\n",
              "      <td>1</td>\n",
              "      <td>-0.656749</td>\n",
              "      <td>2018-03-09 14:47:05</td>\n",
              "      <td>3.0</td>\n",
              "      <td>7</td>\n",
              "      <td>16</td>\n",
              "    </tr>\n",
              "    <tr>\n",
              "      <th>1963030</th>\n",
              "      <td>Y</td>\n",
              "      <td>C_ID_a935410f8e</td>\n",
              "      <td>19</td>\n",
              "      <td>N</td>\n",
              "      <td>0</td>\n",
              "      <td>A</td>\n",
              "      <td>278</td>\n",
              "      <td>M_ID_d855771cd9</td>\n",
              "      <td>2</td>\n",
              "      <td>-0.739395</td>\n",
              "      <td>2018-04-11 07:59:46</td>\n",
              "      <td>1.0</td>\n",
              "      <td>9</td>\n",
              "      <td>37</td>\n",
              "    </tr>\n",
              "  </tbody>\n",
              "</table>\n",
              "<p>1963031 rows × 14 columns</p>\n",
              "</div>"
            ],
            "text/plain": [
              "        authorized_flag          card_id  city_id category_1  installments  \\\n",
              "0                     Y  C_ID_415bb3a509      107          N             1   \n",
              "1                     Y  C_ID_415bb3a509      140          N             1   \n",
              "2                     Y  C_ID_415bb3a509      330          N             1   \n",
              "3                     Y  C_ID_415bb3a509       -1          Y             1   \n",
              "4                     Y  C_ID_ef55cf8d4b       -1          Y             1   \n",
              "...                 ...              ...      ...        ...           ...   \n",
              "1963026               Y  C_ID_1320dee851      142          N             0   \n",
              "1963027               Y  C_ID_f112aa3381      158          N             0   \n",
              "1963028               Y  C_ID_bd97b86450       69          N             1   \n",
              "1963029               Y  C_ID_c0513fd84f      130          N             0   \n",
              "1963030               Y  C_ID_a935410f8e       19          N             0   \n",
              "\n",
              "        category_3  merchant_category_id      merchant_id  month_lag  \\\n",
              "0                B                   307  M_ID_b0c793002c          1   \n",
              "1                B                   307  M_ID_88920c89e8          1   \n",
              "2                B                   507  M_ID_ad5237ef6b          2   \n",
              "3                B                   661  M_ID_9e84cda3b1          1   \n",
              "4                B                   166  M_ID_3c86fa3831          1   \n",
              "...            ...                   ...              ...        ...   \n",
              "1963026          A                   309  M_ID_7754b67f3b          2   \n",
              "1963027          A                   560  M_ID_da063195b7          2   \n",
              "1963028          B                   278  M_ID_9a9ccb6544          1   \n",
              "1963029          A                   367  M_ID_40c28d596f          1   \n",
              "1963030          A                   278  M_ID_d855771cd9          2   \n",
              "\n",
              "         purchase_amount        purchase_date  category_2  state_id  \\\n",
              "0              -0.557574  2018-03-11 14:57:36         1.0         9   \n",
              "1              -0.569580  2018-03-19 18:53:37         1.0         9   \n",
              "2              -0.551037  2018-04-26 14:08:44         1.0         9   \n",
              "3              -0.671925  2018-03-07 09:43:21         NaN        -1   \n",
              "4              -0.659904  2018-03-22 21:07:53         NaN        -1   \n",
              "...                  ...                  ...         ...       ...   \n",
              "1963026        -0.701828  2018-04-06 14:36:52         3.0        19   \n",
              "1963027        -0.694390  2018-03-07 13:19:18         1.0        15   \n",
              "1963028        -0.621031  2018-03-05 12:04:56         1.0         9   \n",
              "1963029        -0.656749  2018-03-09 14:47:05         3.0         7   \n",
              "1963030        -0.739395  2018-04-11 07:59:46         1.0         9   \n",
              "\n",
              "         subsector_id  \n",
              "0                  19  \n",
              "1                  19  \n",
              "2                  14  \n",
              "3                   8  \n",
              "4                  29  \n",
              "...               ...  \n",
              "1963026            21  \n",
              "1963027            34  \n",
              "1963028            37  \n",
              "1963029            16  \n",
              "1963030            37  \n",
              "\n",
              "[1963031 rows x 14 columns]"
            ]
          },
          "metadata": {},
          "execution_count": 18
        }
      ]
    },
    {
      "cell_type": "code",
      "metadata": {
        "id": "Xy4zTG068hkF"
      },
      "source": [
        "gdf = new_trans_df.groupby(\"card_id\")\n",
        "gdf = gdf[\"purchase_amount\"].size().reset_index()\n",
        "gdf.columns = [\"card_id\", \"num_merch_transactions\"]\n",
        "train_df = pd.merge(train_df, gdf, on=\"card_id\", how=\"left\")\n",
        "test_df = pd.merge(test_df, gdf, on=\"card_id\", how=\"left\")"
      ],
      "execution_count": null,
      "outputs": []
    },
    {
      "cell_type": "code",
      "metadata": {
        "colab": {
          "base_uri": "https://localhost:8080/",
          "height": 564
        },
        "id": "HwVn74Vm9Vlm",
        "outputId": "299b2542-7c1b-43e1-dc50-3c4cf14dcbaf"
      },
      "source": [
        "bins = [0, 10, 20, 30, 40, 50, 75, 10000]\n",
        "train_df['binned_num_merch_transactions'] = pd.cut(train_df['num_merch_transactions'], bins)\n",
        "#cnt_srs = train_df.groupby(\"binned_num_merch_transactions\")[\"target\"].mean()\n",
        "\n",
        "plt.figure(figsize=(12,8))\n",
        "sns.boxplot(x=\"binned_num_merch_transactions\", y=\"target\", data=train_df, showfliers=False)\n",
        "plt.xticks(rotation='vertical')\n",
        "plt.xlabel('binned_num_merch_transactions', fontsize=12)\n",
        "plt.ylabel('Loyalty score', fontsize=12)\n",
        "plt.title('Number of new merchants transaction distribution')\n",
        "plt.show()"
      ],
      "execution_count": null,
      "outputs": [
        {
          "output_type": "display_data",
          "data": {
            "image/png": "[encoded data removed]",
            "text/plain": [
              "<Figure size 864x576 with 1 Axes>"
            ]
          },
          "metadata": {
            "needs_background": "light"
          }
        }
      ]
    },
    {
      "cell_type": "markdown",
      "metadata": {
        "id": "z1NCzP_hBQJb"
      },
      "source": [
        "Loyalty score은 마지막 것을 제외하고는 new merchant transactions가 증가할수록 감소합니다."
      ]
    },
    {
      "cell_type": "code",
      "metadata": {
        "id": "OYre3wKtC0jG"
      },
      "source": [
        "gdf = new_trans_df.groupby(\"card_id\")\n",
        "gdf = gdf[\"purchase_amount\"].agg(['sum', 'mean', 'std', 'min', 'max']).reset_index()\n",
        "gdf.columns = [\"card_id\", \"sum_merch_trans\", \"mean_merch_trans\", \"std_merch_trans\", \"min_merch_trans\", \"max_merch_trans\"]\n",
        "train_df = pd.merge(train_df, gdf, on=\"card_id\", how=\"left\")\n",
        "test_df = pd.merge(test_df, gdf, on=\"card_id\", how=\"left\")"
      ],
      "execution_count": null,
      "outputs": []
    },
    {
      "cell_type": "code",
      "metadata": {
        "colab": {
          "base_uri": "https://localhost:8080/",
          "height": 225
        },
        "id": "ZsPti59mPuHU",
        "outputId": "8433ef29-ec2a-42e1-888d-863944964d03"
      },
      "source": [
        "train_df.head()"
      ],
      "execution_count": null,
      "outputs": [
        {
          "output_type": "execute_result",
          "data": {
            "text/html": [
              "<div>\n",
              "<style scoped>\n",
              "    .dataframe tbody tr th:only-of-type {\n",
              "        vertical-align: middle;\n",
              "    }\n",
              "\n",
              "    .dataframe tbody tr th {\n",
              "        vertical-align: top;\n",
              "    }\n",
              "\n",
              "    .dataframe thead th {\n",
              "        text-align: right;\n",
              "    }\n",
              "</style>\n",
              "<table border=\"1\" class=\"dataframe\">\n",
              "  <thead>\n",
              "    <tr style=\"text-align: right;\">\n",
              "      <th></th>\n",
              "      <th>first_active_month</th>\n",
              "      <th>card_id</th>\n",
              "      <th>feature_1</th>\n",
              "      <th>feature_2</th>\n",
              "      <th>feature_3</th>\n",
              "      <th>target</th>\n",
              "      <th>num_hist_transactions</th>\n",
              "      <th>binned_num_hist_transactions</th>\n",
              "      <th>sum_hist_trans</th>\n",
              "      <th>mean_hist_trans</th>\n",
              "      <th>std_hist_trans</th>\n",
              "      <th>min_hist_trans</th>\n",
              "      <th>max_hist_trans</th>\n",
              "      <th>binned_sum_hist_trans</th>\n",
              "      <th>binned_mean_hist_trans</th>\n",
              "      <th>num_merch_transactions</th>\n",
              "      <th>binned_num_merch_transactions</th>\n",
              "      <th>sum_merch_trans</th>\n",
              "      <th>mean_merch_trans</th>\n",
              "      <th>std_merch_trans</th>\n",
              "      <th>min_merch_trans</th>\n",
              "      <th>max_merch_trans</th>\n",
              "    </tr>\n",
              "  </thead>\n",
              "  <tbody>\n",
              "    <tr>\n",
              "      <th>0</th>\n",
              "      <td>2017-06-01</td>\n",
              "      <td>C_ID_92a2005557</td>\n",
              "      <td>5</td>\n",
              "      <td>2</td>\n",
              "      <td>1</td>\n",
              "      <td>-0.820283</td>\n",
              "      <td>260</td>\n",
              "      <td>(200, 500]</td>\n",
              "      <td>-165.968739</td>\n",
              "      <td>-0.638341</td>\n",
              "      <td>0.212139</td>\n",
              "      <td>-0.739395</td>\n",
              "      <td>2.258395</td>\n",
              "      <td>(-2088.013, -124.526]</td>\n",
              "      <td>(-0.648, -0.621]</td>\n",
              "      <td>23.0</td>\n",
              "      <td>(20, 30]</td>\n",
              "      <td>-13.244202</td>\n",
              "      <td>-0.575835</td>\n",
              "      <td>0.135812</td>\n",
              "      <td>-0.724368</td>\n",
              "      <td>-0.296112</td>\n",
              "    </tr>\n",
              "    <tr>\n",
              "      <th>1</th>\n",
              "      <td>2017-01-01</td>\n",
              "      <td>C_ID_3d0044924f</td>\n",
              "      <td>4</td>\n",
              "      <td>1</td>\n",
              "      <td>0</td>\n",
              "      <td>0.392913</td>\n",
              "      <td>350</td>\n",
              "      <td>(200, 500]</td>\n",
              "      <td>-210.006336</td>\n",
              "      <td>-0.600018</td>\n",
              "      <td>0.384967</td>\n",
              "      <td>-0.742400</td>\n",
              "      <td>4.630299</td>\n",
              "      <td>(-2088.013, -124.526]</td>\n",
              "      <td>(-0.621, -0.587]</td>\n",
              "      <td>6.0</td>\n",
              "      <td>(0, 10]</td>\n",
              "      <td>-4.355735</td>\n",
              "      <td>-0.725956</td>\n",
              "      <td>0.014326</td>\n",
              "      <td>-0.739410</td>\n",
              "      <td>-0.701858</td>\n",
              "    </tr>\n",
              "    <tr>\n",
              "      <th>2</th>\n",
              "      <td>2016-08-01</td>\n",
              "      <td>C_ID_d639edf6cd</td>\n",
              "      <td>2</td>\n",
              "      <td>2</td>\n",
              "      <td>0</td>\n",
              "      <td>0.688056</td>\n",
              "      <td>43</td>\n",
              "      <td>(40, 50]</td>\n",
              "      <td>-29.167391</td>\n",
              "      <td>-0.678311</td>\n",
              "      <td>0.087380</td>\n",
              "      <td>-0.730138</td>\n",
              "      <td>-0.145847</td>\n",
              "      <td>(-30.387, -22.109]</td>\n",
              "      <td>(-0.688, -0.67]</td>\n",
              "      <td>1.0</td>\n",
              "      <td>(0, 10]</td>\n",
              "      <td>-0.700326</td>\n",
              "      <td>-0.700326</td>\n",
              "      <td>NaN</td>\n",
              "      <td>-0.700326</td>\n",
              "      <td>-0.700326</td>\n",
              "    </tr>\n",
              "    <tr>\n",
              "      <th>3</th>\n",
              "      <td>2017-09-01</td>\n",
              "      <td>C_ID_186d6a6901</td>\n",
              "      <td>4</td>\n",
              "      <td>3</td>\n",
              "      <td>0</td>\n",
              "      <td>0.142495</td>\n",
              "      <td>77</td>\n",
              "      <td>(75, 100]</td>\n",
              "      <td>-49.491364</td>\n",
              "      <td>-0.642745</td>\n",
              "      <td>0.261624</td>\n",
              "      <td>-0.740897</td>\n",
              "      <td>1.445596</td>\n",
              "      <td>(-55.864, -41.057]</td>\n",
              "      <td>(-0.648, -0.621]</td>\n",
              "      <td>7.0</td>\n",
              "      <td>(0, 10]</td>\n",
              "      <td>-4.654372</td>\n",
              "      <td>-0.664910</td>\n",
              "      <td>0.065882</td>\n",
              "      <td>-0.734135</td>\n",
              "      <td>-0.566740</td>\n",
              "    </tr>\n",
              "    <tr>\n",
              "      <th>4</th>\n",
              "      <td>2017-11-01</td>\n",
              "      <td>C_ID_cdbd2c0db2</td>\n",
              "      <td>1</td>\n",
              "      <td>3</td>\n",
              "      <td>0</td>\n",
              "      <td>-0.159749</td>\n",
              "      <td>133</td>\n",
              "      <td>(100, 200]</td>\n",
              "      <td>-48.687656</td>\n",
              "      <td>-0.366073</td>\n",
              "      <td>1.352094</td>\n",
              "      <td>-0.746156</td>\n",
              "      <td>7.193041</td>\n",
              "      <td>(-55.864, -41.057]</td>\n",
              "      <td>(-0.454, -0.265]</td>\n",
              "      <td>36.0</td>\n",
              "      <td>(30, 40]</td>\n",
              "      <td>-19.926237</td>\n",
              "      <td>-0.553507</td>\n",
              "      <td>0.223821</td>\n",
              "      <td>-0.739395</td>\n",
              "      <td>0.450886</td>\n",
              "    </tr>\n",
              "  </tbody>\n",
              "</table>\n",
              "</div>"
            ],
            "text/plain": [
              "  first_active_month          card_id  feature_1  feature_2  feature_3  \\\n",
              "0         2017-06-01  C_ID_92a2005557          5          2          1   \n",
              "1         2017-01-01  C_ID_3d0044924f          4          1          0   \n",
              "2         2016-08-01  C_ID_d639edf6cd          2          2          0   \n",
              "3         2017-09-01  C_ID_186d6a6901          4          3          0   \n",
              "4         2017-11-01  C_ID_cdbd2c0db2          1          3          0   \n",
              "\n",
              "     target  num_hist_transactions binned_num_hist_transactions  \\\n",
              "0 -0.820283                    260                   (200, 500]   \n",
              "1  0.392913                    350                   (200, 500]   \n",
              "2  0.688056                     43                     (40, 50]   \n",
              "3  0.142495                     77                    (75, 100]   \n",
              "4 -0.159749                    133                   (100, 200]   \n",
              "\n",
              "   sum_hist_trans  mean_hist_trans  std_hist_trans  min_hist_trans  \\\n",
              "0     -165.968739        -0.638341        0.212139       -0.739395   \n",
              "1     -210.006336        -0.600018        0.384967       -0.742400   \n",
              "2      -29.167391        -0.678311        0.087380       -0.730138   \n",
              "3      -49.491364        -0.642745        0.261624       -0.740897   \n",
              "4      -48.687656        -0.366073        1.352094       -0.746156   \n",
              "\n",
              "   max_hist_trans  binned_sum_hist_trans binned_mean_hist_trans  \\\n",
              "0        2.258395  (-2088.013, -124.526]       (-0.648, -0.621]   \n",
              "1        4.630299  (-2088.013, -124.526]       (-0.621, -0.587]   \n",
              "2       -0.145847     (-30.387, -22.109]        (-0.688, -0.67]   \n",
              "3        1.445596     (-55.864, -41.057]       (-0.648, -0.621]   \n",
              "4        7.193041     (-55.864, -41.057]       (-0.454, -0.265]   \n",
              "\n",
              "   num_merch_transactions binned_num_merch_transactions  sum_merch_trans  \\\n",
              "0                    23.0                      (20, 30]       -13.244202   \n",
              "1                     6.0                       (0, 10]        -4.355735   \n",
              "2                     1.0                       (0, 10]        -0.700326   \n",
              "3                     7.0                       (0, 10]        -4.654372   \n",
              "4                    36.0                      (30, 40]       -19.926237   \n",
              "\n",
              "   mean_merch_trans  std_merch_trans  min_merch_trans  max_merch_trans  \n",
              "0         -0.575835         0.135812        -0.724368        -0.296112  \n",
              "1         -0.725956         0.014326        -0.739410        -0.701858  \n",
              "2         -0.700326              NaN        -0.700326        -0.700326  \n",
              "3         -0.664910         0.065882        -0.734135        -0.566740  \n",
              "4         -0.553507         0.223821        -0.739395         0.450886  "
            ]
          },
          "metadata": {},
          "execution_count": 22
        }
      ]
    },
    {
      "cell_type": "code",
      "metadata": {
        "colab": {
          "base_uri": "https://localhost:8080/",
          "height": 593
        },
        "id": "PYiG9b8NClUM",
        "outputId": "32c8665d-701e-4d69-faa4-e619fb48cdf0"
      },
      "source": [
        "bins = np.nanpercentile(train_df[\"sum_merch_trans\"], range(0,101,10))\n",
        "train_df[\"binned_sum_merch_trans\"] = pd.cut(train_df['sum_merch_trans'], bins)\n",
        "# cnt_srs = train_df.groupby(\"binned_sum_merch_trans\")[\"target\"].mean()\n",
        "\n",
        "plt.figure(figsize=(12,8))\n",
        "sns.boxplot(x=\"binned_sum_merch_trans\", y=\"target\", data=train_df, showfliers=False)\n",
        "plt.xticks(rotation='vertical')\n",
        "plt.xlabel('binned_sum_merch_trans', fontsize=12)\n",
        "plt.ylabel('Loyalty score', fontsize=12)\n",
        "plt.title(\"Sum of New merchants transaction value distribution\")\n",
        "plt.show()"
      ],
      "execution_count": null,
      "outputs": [
        {
          "output_type": "display_data",
          "data": {
            "image/png": "[encoded data removed]",
            "text/plain": [
              "<Figure size 864x576 with 1 Axes>"
            ]
          },
          "metadata": {
            "needs_background": "light"
          }
        }
      ]
    },
    {
      "cell_type": "markdown",
      "metadata": {
        "id": "fu0Y59P9Ef4Z"
      },
      "source": [
        "Loyalty score은 마지막 bin을 제외하면 new merchant transactions의 value가 증가하면 함께증가하는 것을 알 수 있습니다."
      ]
    },
    {
      "cell_type": "code",
      "metadata": {
        "colab": {
          "base_uri": "https://localhost:8080/",
          "height": 587
        },
        "id": "7ffrhZM0E-gA",
        "outputId": "c1a52bd7-e1c2-4d61-fd51-772a34bbce51"
      },
      "source": [
        "bins = np.nanpercentile(train_df[\"mean_merch_trans\"], range(0, 101, 10))\n",
        "train_df[\"binned_mean_merch_trans\"] = pd.cut(train_df['mean_merch_trans'], bins)\n",
        "\n",
        "plt.figure(figsize=(12,8))\n",
        "sns.boxplot(x=\"binned_mean_merch_trans\", y=\"target\", data=train_df, showfliers= False)\n",
        "plt.xticks(rotation='vertical')\n",
        "plt.xlabel('binned mean of new merchant transactions', fontsize=12)\n",
        "plt.ylabel('Loyalty score', fontsize=12)\n",
        "plt.title(\"mean of New merchant transaction value distribution\")\n",
        "plt.show()"
      ],
      "execution_count": null,
      "outputs": [
        {
          "output_type": "display_data",
          "data": {
            "image/png": "[encoded data removed]",
            "text/plain": [
              "<Figure size 864x576 with 1 Axes>"
            ]
          },
          "metadata": {
            "needs_background": "light"
          }
        }
      ]
    },
    {
      "cell_type": "markdown",
      "metadata": {
        "id": "PCAyrAxdF-Go"
      },
      "source": [
        "## Baseline Model\n",
        "지금까지 만든 피쳐들로 baseline 모델을 만들어 봅시다."
      ]
    },
    {
      "cell_type": "code",
      "metadata": {
        "id": "mLMo3d8JGN5w"
      },
      "source": [
        "train_df[\"year\"] = train_df[\"first_active_month\"].dt.year\n",
        "test_df[\"year\"] = test_df[\"first_active_month\"].dt.year\n",
        "train_df[\"month\"] = train_df[\"first_active_month\"].dt.month\n",
        "test_df[\"month\"] = test_df[\"first_active_month\"].dt.month\n",
        "\n",
        "cols_to_use = [\"feature_1\", \"feature_2\", \"feature_3\", \"year\", \"month\", \"num_hist_transactions\", \"sum_hist_trans\", \"mean_hist_trans\", \"std_hist_trans\", \"min_hist_trans\", \"max_hist_trans\",\n",
        "               \"num_merch_transactions\", \"sum_merch_trans\", \"mean_merch_trans\", \"std_merch_trans\", \"min_merch_trans\", \"max_merch_trans\"]\n",
        "\n"
      ],
      "execution_count": null,
      "outputs": []
    },
    {
      "cell_type": "code",
      "metadata": {
        "colab": {
          "base_uri": "https://localhost:8080/"
        },
        "id": "6xJkSBq4NDPB",
        "outputId": "398b1cef-e5c9-465b-9413-fe7ece37134b"
      },
      "source": [
        "def run_lgb(train_X, train_y, val_X, val_y, test_X):\n",
        "  params = {\n",
        "      \"objective\" : \"regression\",\n",
        "      \"metric\" : \"rmse\",\n",
        "      \"num_leaves\" :30,\n",
        "      \"min_child_weight\" : 50,\n",
        "      \"learning_rate\" : 0.05,\n",
        "      \"bagging_fraction\" : 0.7,\n",
        "      \"feature_fraction\" :0.7,\n",
        "      \"bagging_frequency\" : 5,\n",
        "      \"baggin_seed\" : 2018,\n",
        "      \"verbosity\" : -1\n",
        "  }\n",
        "\n",
        "  lgtrain = lgb.Dataset(train_X, label=train_y)\n",
        "  lgval = lgb.Dataset(val_X, label=val_y)\n",
        "  evals_result = {}\n",
        "  model = lgb.train(params, lgtrain, 1000, valid_sets=[lgval], early_stopping_rounds=100, verbose_eval=100, evals_result=evals_result)\n",
        "  pred_test_y = model.predict(test_X, num_iteration=model.best_iteration)\n",
        "  return pred_test_y, model, evals_result\n",
        "\n",
        "train_X = train_df[cols_to_use]\n",
        "test_X = test_df[cols_to_use]\n",
        "train_y = train_df[\"target\"].values\n",
        "\n",
        "pred_test = 0\n",
        "kf = model_selection.KFold(n_splits=5, random_state=2018, shuffle=True)\n",
        "for dev_index, val_index in kf.split(train_df):\n",
        "  dev_X, val_X = train_X.loc[dev_index,:], train_X.loc[val_index,:]\n",
        "  dev_y, val_y = train_y[dev_index], train_y[val_index]\n",
        "\n",
        "  pred_test_tmp, model, evals_result = run_lgb(dev_X, dev_y, val_X, val_y, test_X)\n",
        "  pred_test += pred_test_tmp\n",
        "pred_test /=5."
      ],
      "execution_count": null,
      "outputs": [
        {
          "output_type": "stream",
          "name": "stdout",
          "text": [
            "Training until validation scores don't improve for 100 rounds.\n",
            "[100]\tvalid_0's rmse: 3.81049\n",
            "[200]\tvalid_0's rmse: 3.80984\n",
            "Early stopping, best iteration is:\n",
            "[163]\tvalid_0's rmse: 3.80946\n",
            "Training until validation scores don't improve for 100 rounds.\n",
            "[100]\tvalid_0's rmse: 3.75935\n",
            "[200]\tvalid_0's rmse: 3.75958\n",
            "Early stopping, best iteration is:\n",
            "[151]\tvalid_0's rmse: 3.75848\n",
            "Training until validation scores don't improve for 100 rounds.\n",
            "[100]\tvalid_0's rmse: 3.80311\n",
            "[200]\tvalid_0's rmse: 3.80228\n",
            "[300]\tvalid_0's rmse: 3.80269\n",
            "Early stopping, best iteration is:\n",
            "[210]\tvalid_0's rmse: 3.80206\n",
            "Training until validation scores don't improve for 100 rounds.\n",
            "[100]\tvalid_0's rmse: 3.7929\n",
            "[200]\tvalid_0's rmse: 3.79349\n",
            "Early stopping, best iteration is:\n",
            "[145]\tvalid_0's rmse: 3.79269\n",
            "Training until validation scores don't improve for 100 rounds.\n",
            "[100]\tvalid_0's rmse: 3.8547\n",
            "[200]\tvalid_0's rmse: 3.85516\n",
            "Early stopping, best iteration is:\n",
            "[127]\tvalid_0's rmse: 3.85456\n"
          ]
        }
      ]
    },
    {
      "cell_type": "code",
      "metadata": {
        "colab": {
          "base_uri": "https://localhost:8080/",
          "height": 225
        },
        "id": "claFlejxLc5Y",
        "outputId": "20d398e9-dead-453a-e14c-0760fd55b72e"
      },
      "source": [
        "train_df.head()"
      ],
      "execution_count": null,
      "outputs": [
        {
          "output_type": "execute_result",
          "data": {
            "text/html": [
              "<div>\n",
              "<style scoped>\n",
              "    .dataframe tbody tr th:only-of-type {\n",
              "        vertical-align: middle;\n",
              "    }\n",
              "\n",
              "    .dataframe tbody tr th {\n",
              "        vertical-align: top;\n",
              "    }\n",
              "\n",
              "    .dataframe thead th {\n",
              "        text-align: right;\n",
              "    }\n",
              "</style>\n",
              "<table border=\"1\" class=\"dataframe\">\n",
              "  <thead>\n",
              "    <tr style=\"text-align: right;\">\n",
              "      <th></th>\n",
              "      <th>first_active_month</th>\n",
              "      <th>card_id</th>\n",
              "      <th>feature_1</th>\n",
              "      <th>feature_2</th>\n",
              "      <th>feature_3</th>\n",
              "      <th>target</th>\n",
              "      <th>num_hist_transactions</th>\n",
              "      <th>binned_num_hist_transactions</th>\n",
              "      <th>sum_hist_trans</th>\n",
              "      <th>mean_hist_trans</th>\n",
              "      <th>std_hist_trans</th>\n",
              "      <th>min_hist_trans</th>\n",
              "      <th>max_hist_trans</th>\n",
              "      <th>binned_sum_hist_trans</th>\n",
              "      <th>binned_mean_hist_trans</th>\n",
              "      <th>num_merch_transactions</th>\n",
              "      <th>binned_num_merch_transactions</th>\n",
              "      <th>sum_merch_trans</th>\n",
              "      <th>mean_merch_trans</th>\n",
              "      <th>std_merch_trans</th>\n",
              "      <th>min_merch_trans</th>\n",
              "      <th>max_merch_trans</th>\n",
              "      <th>binned_sum_merch_trans</th>\n",
              "      <th>binned_mean_merch_trans</th>\n",
              "      <th>year</th>\n",
              "      <th>month</th>\n",
              "    </tr>\n",
              "  </thead>\n",
              "  <tbody>\n",
              "    <tr>\n",
              "      <th>0</th>\n",
              "      <td>2017-06-01</td>\n",
              "      <td>C_ID_92a2005557</td>\n",
              "      <td>5</td>\n",
              "      <td>2</td>\n",
              "      <td>1</td>\n",
              "      <td>-0.820283</td>\n",
              "      <td>260</td>\n",
              "      <td>(200, 500]</td>\n",
              "      <td>-165.968739</td>\n",
              "      <td>-0.638341</td>\n",
              "      <td>0.212139</td>\n",
              "      <td>-0.739395</td>\n",
              "      <td>2.258395</td>\n",
              "      <td>(-2088.013, -124.526]</td>\n",
              "      <td>(-0.648, -0.621]</td>\n",
              "      <td>23.0</td>\n",
              "      <td>(20, 30]</td>\n",
              "      <td>-13.244202</td>\n",
              "      <td>-0.575835</td>\n",
              "      <td>0.135812</td>\n",
              "      <td>-0.724368</td>\n",
              "      <td>-0.296112</td>\n",
              "      <td>(-70.813, -8.882]</td>\n",
              "      <td>(-0.61, -0.565]</td>\n",
              "      <td>2017</td>\n",
              "      <td>6</td>\n",
              "    </tr>\n",
              "    <tr>\n",
              "      <th>1</th>\n",
              "      <td>2017-01-01</td>\n",
              "      <td>C_ID_3d0044924f</td>\n",
              "      <td>4</td>\n",
              "      <td>1</td>\n",
              "      <td>0</td>\n",
              "      <td>0.392913</td>\n",
              "      <td>350</td>\n",
              "      <td>(200, 500]</td>\n",
              "      <td>-210.006336</td>\n",
              "      <td>-0.600018</td>\n",
              "      <td>0.384967</td>\n",
              "      <td>-0.742400</td>\n",
              "      <td>4.630299</td>\n",
              "      <td>(-2088.013, -124.526]</td>\n",
              "      <td>(-0.621, -0.587]</td>\n",
              "      <td>6.0</td>\n",
              "      <td>(0, 10]</td>\n",
              "      <td>-4.355735</td>\n",
              "      <td>-0.725956</td>\n",
              "      <td>0.014326</td>\n",
              "      <td>-0.739410</td>\n",
              "      <td>-0.701858</td>\n",
              "      <td>(-4.574, -3.483]</td>\n",
              "      <td>(-0.747, -0.717]</td>\n",
              "      <td>2017</td>\n",
              "      <td>1</td>\n",
              "    </tr>\n",
              "    <tr>\n",
              "      <th>2</th>\n",
              "      <td>2016-08-01</td>\n",
              "      <td>C_ID_d639edf6cd</td>\n",
              "      <td>2</td>\n",
              "      <td>2</td>\n",
              "      <td>0</td>\n",
              "      <td>0.688056</td>\n",
              "      <td>43</td>\n",
              "      <td>(40, 50]</td>\n",
              "      <td>-29.167391</td>\n",
              "      <td>-0.678311</td>\n",
              "      <td>0.087380</td>\n",
              "      <td>-0.730138</td>\n",
              "      <td>-0.145847</td>\n",
              "      <td>(-30.387, -22.109]</td>\n",
              "      <td>(-0.688, -0.67]</td>\n",
              "      <td>1.0</td>\n",
              "      <td>(0, 10]</td>\n",
              "      <td>-0.700326</td>\n",
              "      <td>-0.700326</td>\n",
              "      <td>NaN</td>\n",
              "      <td>-0.700326</td>\n",
              "      <td>-0.700326</td>\n",
              "      <td>(-0.739, -0.578]</td>\n",
              "      <td>(-0.701, -0.684]</td>\n",
              "      <td>2016</td>\n",
              "      <td>8</td>\n",
              "    </tr>\n",
              "    <tr>\n",
              "      <th>3</th>\n",
              "      <td>2017-09-01</td>\n",
              "      <td>C_ID_186d6a6901</td>\n",
              "      <td>4</td>\n",
              "      <td>3</td>\n",
              "      <td>0</td>\n",
              "      <td>0.142495</td>\n",
              "      <td>77</td>\n",
              "      <td>(75, 100]</td>\n",
              "      <td>-49.491364</td>\n",
              "      <td>-0.642745</td>\n",
              "      <td>0.261624</td>\n",
              "      <td>-0.740897</td>\n",
              "      <td>1.445596</td>\n",
              "      <td>(-55.864, -41.057]</td>\n",
              "      <td>(-0.648, -0.621]</td>\n",
              "      <td>7.0</td>\n",
              "      <td>(0, 10]</td>\n",
              "      <td>-4.654372</td>\n",
              "      <td>-0.664910</td>\n",
              "      <td>0.065882</td>\n",
              "      <td>-0.734135</td>\n",
              "      <td>-0.566740</td>\n",
              "      <td>(-6.139, -4.574]</td>\n",
              "      <td>(-0.665, -0.642]</td>\n",
              "      <td>2017</td>\n",
              "      <td>9</td>\n",
              "    </tr>\n",
              "    <tr>\n",
              "      <th>4</th>\n",
              "      <td>2017-11-01</td>\n",
              "      <td>C_ID_cdbd2c0db2</td>\n",
              "      <td>1</td>\n",
              "      <td>3</td>\n",
              "      <td>0</td>\n",
              "      <td>-0.159749</td>\n",
              "      <td>133</td>\n",
              "      <td>(100, 200]</td>\n",
              "      <td>-48.687656</td>\n",
              "      <td>-0.366073</td>\n",
              "      <td>1.352094</td>\n",
              "      <td>-0.746156</td>\n",
              "      <td>7.193041</td>\n",
              "      <td>(-55.864, -41.057]</td>\n",
              "      <td>(-0.454, -0.265]</td>\n",
              "      <td>36.0</td>\n",
              "      <td>(30, 40]</td>\n",
              "      <td>-19.926237</td>\n",
              "      <td>-0.553507</td>\n",
              "      <td>0.223821</td>\n",
              "      <td>-0.739395</td>\n",
              "      <td>0.450886</td>\n",
              "      <td>(-70.813, -8.882]</td>\n",
              "      <td>(-0.565, -0.487]</td>\n",
              "      <td>2017</td>\n",
              "      <td>11</td>\n",
              "    </tr>\n",
              "  </tbody>\n",
              "</table>\n",
              "</div>"
            ],
            "text/plain": [
              "  first_active_month          card_id  feature_1  feature_2  feature_3  \\\n",
              "0         2017-06-01  C_ID_92a2005557          5          2          1   \n",
              "1         2017-01-01  C_ID_3d0044924f          4          1          0   \n",
              "2         2016-08-01  C_ID_d639edf6cd          2          2          0   \n",
              "3         2017-09-01  C_ID_186d6a6901          4          3          0   \n",
              "4         2017-11-01  C_ID_cdbd2c0db2          1          3          0   \n",
              "\n",
              "     target  num_hist_transactions binned_num_hist_transactions  \\\n",
              "0 -0.820283                    260                   (200, 500]   \n",
              "1  0.392913                    350                   (200, 500]   \n",
              "2  0.688056                     43                     (40, 50]   \n",
              "3  0.142495                     77                    (75, 100]   \n",
              "4 -0.159749                    133                   (100, 200]   \n",
              "\n",
              "   sum_hist_trans  mean_hist_trans  std_hist_trans  min_hist_trans  \\\n",
              "0     -165.968739        -0.638341        0.212139       -0.739395   \n",
              "1     -210.006336        -0.600018        0.384967       -0.742400   \n",
              "2      -29.167391        -0.678311        0.087380       -0.730138   \n",
              "3      -49.491364        -0.642745        0.261624       -0.740897   \n",
              "4      -48.687656        -0.366073        1.352094       -0.746156   \n",
              "\n",
              "   max_hist_trans  binned_sum_hist_trans binned_mean_hist_trans  \\\n",
              "0        2.258395  (-2088.013, -124.526]       (-0.648, -0.621]   \n",
              "1        4.630299  (-2088.013, -124.526]       (-0.621, -0.587]   \n",
              "2       -0.145847     (-30.387, -22.109]        (-0.688, -0.67]   \n",
              "3        1.445596     (-55.864, -41.057]       (-0.648, -0.621]   \n",
              "4        7.193041     (-55.864, -41.057]       (-0.454, -0.265]   \n",
              "\n",
              "   num_merch_transactions binned_num_merch_transactions  sum_merch_trans  \\\n",
              "0                    23.0                      (20, 30]       -13.244202   \n",
              "1                     6.0                       (0, 10]        -4.355735   \n",
              "2                     1.0                       (0, 10]        -0.700326   \n",
              "3                     7.0                       (0, 10]        -4.654372   \n",
              "4                    36.0                      (30, 40]       -19.926237   \n",
              "\n",
              "   mean_merch_trans  std_merch_trans  min_merch_trans  max_merch_trans  \\\n",
              "0         -0.575835         0.135812        -0.724368        -0.296112   \n",
              "1         -0.725956         0.014326        -0.739410        -0.701858   \n",
              "2         -0.700326              NaN        -0.700326        -0.700326   \n",
              "3         -0.664910         0.065882        -0.734135        -0.566740   \n",
              "4         -0.553507         0.223821        -0.739395         0.450886   \n",
              "\n",
              "  binned_sum_merch_trans binned_mean_merch_trans  year  month  \n",
              "0      (-70.813, -8.882]         (-0.61, -0.565]  2017      6  \n",
              "1       (-4.574, -3.483]        (-0.747, -0.717]  2017      1  \n",
              "2       (-0.739, -0.578]        (-0.701, -0.684]  2016      8  \n",
              "3       (-6.139, -4.574]        (-0.665, -0.642]  2017      9  \n",
              "4      (-70.813, -8.882]        (-0.565, -0.487]  2017     11  "
            ]
          },
          "metadata": {},
          "execution_count": 27
        }
      ]
    },
    {
      "cell_type": "code",
      "metadata": {
        "id": "C9mSz7AoNVuy",
        "colab": {
          "base_uri": "https://localhost:8080/",
          "height": 623
        },
        "outputId": "f6d3dd13-bd88-4a78-ea7a-d352086523d1"
      },
      "source": [
        "fig, ax = plt.subplots(figsize=(12,10))\n",
        "lgb.plot_importance(model, max_num_features=50, height=0.8, ax=ax)\n",
        "ax.grid(True)\n",
        "plt.title(\"LightGBM - Feature Importance\", fontsize=15)\n",
        "plt.show()"
      ],
      "execution_count": null,
      "outputs": [
        {
          "output_type": "display_data",
          "data": {
            "image/png": "[encoded data removed]",
            "text/plain": [
              "<Figure size 864x720 with 1 Axes>"
            ]
          },
          "metadata": {
            "needs_background": "light"
          }
        }
      ]
    }
  ]
}